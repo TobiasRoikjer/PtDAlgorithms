{
 "cells": [
  {
   "cell_type": "code",
   "execution_count": 2,
   "metadata": {},
   "outputs": [
    {
     "name": "stderr",
     "output_type": "stream",
     "text": [
      "Installing package into ‘/home/tobias/R/x86_64-pc-linux-gnu-library/4.1’\n",
      "(as ‘lib’ is unspecified)\n",
      "\n",
      "Loading required package: usethis\n",
      "\n",
      "Downloading GitHub repo TobiasRoikjer/PtDAlgorithms@HEAD\n",
      "\n"
     ]
    },
    {
     "name": "stdout",
     "output_type": "stream",
     "text": [
      "\n",
      "\u001b[32m✔\u001b[39m  \u001b[90mchecking for file ‘/tmp/RtmpvLuV7D/remotes44e6260a06/TobiasRoikjer-PtDAlgorithms-5f7be71/DESCRIPTION’\u001b[39m\u001b[36m\u001b[36m (368ms)\u001b[36m\u001b[39m\n",
      "\u001b[90m─\u001b[39m\u001b[90m  \u001b[39m\u001b[90mpreparing ‘ptdalgorithms’:\u001b[39m\u001b[36m\u001b[39m\n",
      "\u001b[32m✔\u001b[39m  \u001b[90mchecking DESCRIPTION meta-information\u001b[39m\u001b[36m\u001b[39m\n",
      "\u001b[90m─\u001b[39m\u001b[90m  \u001b[39m\u001b[90mcleaning src\u001b[39m\u001b[36m\u001b[39m\n",
      "\u001b[90m─\u001b[39m\u001b[90m  \u001b[39m\u001b[90mchecking for LF line-endings in source and make files and shell scripts\u001b[39m\u001b[36m\u001b[36m (616ms)\u001b[36m\u001b[39m\n",
      "\u001b[90m─\u001b[39m\u001b[90m  \u001b[39m\u001b[90mchecking for empty or unneeded directories\u001b[39m\u001b[36m\u001b[39m\n",
      "   Omitted ‘LazyData’ from DESCRIPTION\n",
      "\u001b[90m─\u001b[39m\u001b[90m  \u001b[39m\u001b[90mbuilding ‘ptdalgorithms_1.0.0.tar.gz’\u001b[39m\u001b[36m\u001b[39m\n",
      "   \n",
      "\r"
     ]
    },
    {
     "name": "stderr",
     "output_type": "stream",
     "text": [
      "Installing package into ‘/home/tobias/R/x86_64-pc-linux-gnu-library/4.1’\n",
      "(as ‘lib’ is unspecified)\n",
      "\n",
      "Warning message in i.p(...):\n",
      "“installation of package ‘/tmp/RtmpvLuV7D/file44ec3a7337/ptdalgorithms_1.0.0.tar.gz’ had non-zero exit status”\n"
     ]
    }
   ],
   "source": [
    "# We install the package through devtools::install_github\n",
    "# This requires the \"devtools\" package to be installed\n",
    "install.packages(\"devtools\",  INSTALL_opts = c('--no-lock'))\n",
    "library(devtools)\n",
    "devtools::install_github(\"TobiasRoikjer/PtDAlgorithms\")"
   ]
  },
  {
   "cell_type": "code",
   "execution_count": 3,
   "metadata": {},
   "outputs": [
    {
     "ename": "ERROR",
     "evalue": "Error in library(ptdalgorithms): there is no package called ‘ptdalgorithms’\n",
     "output_type": "error",
     "traceback": [
      "Error in library(ptdalgorithms): there is no package called ‘ptdalgorithms’\nTraceback:\n",
      "1. library(ptdalgorithms)"
     ]
    }
   ],
   "source": [
    "# Import the functions in the library\n",
    "library(ptdalgorithms)\n",
    "\n",
    "# The library supports setting seeds for some of its\n",
    "# sampling capability, as any other R package\n",
    "set.seed(1234)"
   ]
  },
  {
   "cell_type": "code",
   "execution_count": null,
   "metadata": {},
   "outputs": [],
   "source": [
    "# While the R api can create graphs, this is *slow* as the C++ binding layer\n",
    "# through Rcpp is slow when invoking many functions, and since R is a slow,\n",
    "# interpreted language\n",
    "# Clone or download the code, and include these files in the repository!\n",
    "# Make SURE that the version of the downloaded code is the same as the\n",
    "# installed R library!! Otherwise it may crash randomly\n",
    "# The file has comments and is easy to understand, so you should be able\n",
    "# to defined you own cool construction functions\n",
    "\n",
    "Rcpp::sourceCpp(\"./isolation_migration_model.cpp\")"
   ]
  },
  {
   "cell_type": "code",
   "execution_count": null,
   "metadata": {},
   "outputs": [],
   "source": [
    "# Construction of IM model and computation of expectations\n",
    "\n",
    "n1 <- 8\n",
    "n2 <- 8\n",
    "\n",
    "time <- proc.time()[3]\n",
    "g <- construct_im_graph(n1,n2,0.1,0.1)\n",
    "\n",
    "cat(paste(\"Construction took \", proc.time()[3] - time, \"seconds\\n\"))\n",
    "\n",
    "expected_visits <- rep(0, vertices_length(g))\n",
    "time <- proc.time()[3]\n",
    "ctx <- distribution_context(g,1000)\n",
    "while (distribution_context_state(ctx)$time <= 1.5) {\n",
    "    distribution_context_step(ctx)\n",
    "}\n",
    "\n",
    "cat(paste(\"Finding stopping time took \", proc.time()[3] - time, \"seconds\\n\"))\n",
    "\n",
    "\n",
    "algorithm_expectation <- matrix(nrow=n1+1,ncol=n2+1)\n",
    "\n",
    "time <- proc.time()[3]\n",
    "k <- expectation(g)\n",
    "\n",
    "cat(paste(\"Moment graph took \", proc.time()[3] - time, \"seconds\\n\"))\n",
    "\n",
    "time <- proc.time()[3]\n",
    "for (i in 0:n1) {\n",
    "  for (j in 0:n2) {\n",
    "    algorithm_expectation[i+1, j+1]<- expectation(g, rewards_at(g, i,j,n1,n2))\n",
    "    }\n",
    "}\n",
    "\n",
    "cat(paste(\"Expectations took \", proc.time()[3] - time, \"seconds\\n\"))\n",
    "algorithm_expectation"
   ]
  },
  {
   "cell_type": "code",
   "execution_count": null,
   "metadata": {},
   "outputs": [],
   "source": [
    "# Comparing results to verify implementation/numerical accuracy\n",
    "n1 <- 4\n",
    "n2 <- 4\n",
    "\n",
    "g <- construct_im_graph(n1,n2,0.1,0.1)\n",
    "\n",
    "expected_visits <- rep(0, vertices_length(g))\n",
    "ctx <- distribution_context(g,1000)\n",
    "while (distribution_context_state(ctx)$cdf < 0.9999) {\n",
    "  distribution_context_step(ctx)\n",
    "}\n",
    "\n",
    "expected_visits <- distribution_context_accumulated_visiting_time(ctx)\n",
    "\n",
    "distribution_expectation <- matrix(nrow=n1+1,ncol=n2+1)\n",
    "algorithm_expectation <- matrix(nrow=n1+1,ncol=n2+1)\n",
    "matrix_expectation <- matrix(nrow=n1+1,ncol=n2+1)\n",
    "simulation_expectation <- matrix(nrow=n1+1,ncol=n2+1)\n",
    "PH <- graph_as_matrix(g)\n",
    "U <- solve(-PH$SIM)\n",
    "set.seed(1234)\n",
    "\n",
    "for (i in 0:n1) {\n",
    "  for (j in 0:n2) {\n",
    "    distribution_expectation[i+1,j+1] <- sum(expected_visits * rewards_at(g, i,j,n1,n2))\n",
    "    algorithm_expectation[i+1, j+1]<- expectation(g, rewards_at(g, i,j,n1,n2))\n",
    "    simulation_expectation[i+1, j+1]<- mean(rph(10000, g, rewards_at(g, i,j,n1,n2)))\n",
    "    matrix_expectation[i+1,j+1] <-PH$IPV %*% U%*%diag(PH$states[,(matrix_index(i,j,0,n1,n2)+1)]+PH$states[,(matrix_index(i,j,1,n1,n2)+1)])%*%rep(1,length(PH$IPV))\n",
    "  }\n",
    "}\n",
    "\n",
    "sum(abs(matrix_expectation - algorithm_expectation))\n",
    "sum(abs(matrix_expectation - simulation_expectation))\n",
    "sum(abs(matrix_expectation - distribution_expectation))"
   ]
  }
 ],
 "metadata": {
  "kernelspec": {
   "display_name": "R",
   "language": "R",
   "name": "ir"
  },
  "language_info": {
   "codemirror_mode": "r",
   "file_extension": ".r",
   "mimetype": "text/x-r-source",
   "name": "R",
   "pygments_lexer": "r",
   "version": "4.1.2"
  }
 },
 "nbformat": 4,
 "nbformat_minor": 2
}
