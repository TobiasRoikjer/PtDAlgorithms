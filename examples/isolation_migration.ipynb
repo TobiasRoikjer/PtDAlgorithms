{
 "cells": [
  {
   "cell_type": "code",
   "execution_count": null,
   "metadata": {},
   "outputs": [],
   "source": [
    "# We install the package through devtools::install_github\n",
    "# This requires the \"devtools\" package to be installed\n",
    "install.packages(\"devtools\",  INSTALL_opts = c('--no-lock'))\n",
    "library(devtools)\n",
    "devtools::install_github(\"TobiasRoikjer/PtDAlgorithms\")"
   ]
  },
  {
   "cell_type": "code",
   "execution_count": 1,
   "metadata": {},
   "outputs": [],
   "source": [
    "# Import the functions in the library\n",
    "library(ptdalgorithms)\n",
    "\n",
    "# The library supports setting seeds for some of its\n",
    "# sampling capability, as any other R package\n",
    "set.seed(1234)"
   ]
  },
  {
   "cell_type": "code",
   "execution_count": 6,
   "metadata": {},
   "outputs": [],
   "source": [
    "# While the R api can create graphs, this is *slow* as the C++ binding layer\n",
    "# through Rcpp is slow when invoking many functions, and since R is a slow,\n",
    "# interpreted language\n",
    "# Clone or download the code, and include these files in the repository!\n",
    "# Make SURE that the version of the downloaded code is the same as the\n",
    "# installed R library!! Otherwise it may crash randomly\n",
    "# The file has comments and is easy to understand, so you should be able\n",
    "# to defined you own cool construction functions\n",
    "\n",
    "Rcpp::sourceCpp(\"./isolation_migration_model.cpp\")"
   ]
  },
  {
   "cell_type": "code",
   "execution_count": null,
   "metadata": {},
   "outputs": [],
   "source": [
    "# Comparing results to verify implementation/numerical accuracy\n",
    "n1 <- 4\n",
    "n2 <- 4\n",
    "\n",
    "g <- construct_im_graph(n1,n2,0.1,0.1)\n",
    "\n",
    "expected_visits <- rep(0, vertices_length(g))\n",
    "ctx <- distribution_context(g,1000)\n",
    "while (distribution_context_state(ctx)$cdf < 0.9999) {\n",
    "  distribution_context_step(ctx)\n",
    "}\n",
    "\n",
    "expected_visits <- distribution_context_accumulated_visiting_time(ctx)\n",
    "\n",
    "distribution_expectation <- matrix(nrow=n1+1,ncol=n2+1)\n",
    "algorithm_expectation <- matrix(nrow=n1+1,ncol=n2+1)\n",
    "matrix_expectation <- matrix(nrow=n1+1,ncol=n2+1)\n",
    "simulation_expectation <- matrix(nrow=n1+1,ncol=n2+1)\n",
    "PH <- graph_as_matrix(g)\n",
    "U <- solve(-PH$SIM)\n",
    "set.seed(1234)\n",
    "\n",
    "for (i in 0:n1) {\n",
    "  for (j in 0:n2) {\n",
    "    distribution_expectation[i+1,j+1] <- sum(expected_visits * rewards_at(g, i,j,n1,n2))\n",
    "    algorithm_expectation[i+1, j+1]<- expectation(g, rewards_at(g, i,j,n1,n2))\n",
    "    simulation_expectation[i+1, j+1]<- mean(rph(10000, g, rewards_at(g, i,j,n1,n2)))\n",
    "    matrix_expectation[i+1,j+1] <-PH$IPV %*% U%*%diag(PH$states[,(matrix_index(i,j,0,n1,n2)+1)]+PH$states[,(matrix_index(i,j,1,n1,n2)+1)])%*%rep(1,length(PH$IPV))\n",
    "  }\n",
    "}\n",
    "\n",
    "sum(abs(matrix_expectation - algorithm_expectation))\n",
    "sum(abs(matrix_expectation - simulation_expectation))\n",
    "sum(abs(matrix_expectation - distribution_expectation))\n"
   ]
  },
  {
   "cell_type": "code",
   "execution_count": null,
   "metadata": {},
   "outputs": [],
   "source": [
    "\n",
    "###\n",
    "### Timings of 8x8 expectations\n",
    "###\n",
    "\n",
    "n1 <- 8\n",
    "n2 <- 8\n",
    "\n",
    "time <- proc.time()[3]\n",
    "g <- construct_im_graph(n1,n2,0.1,0.1)\n",
    "\n",
    "cat(paste(\"Construction took \", proc.time()[3] - time, \"seconds\\n\"))\n",
    "\n",
    "expected_visits <- rep(0, vertices_length(g))\n",
    "time <- proc.time()[3]\n",
    "ctx <- distribution_context(g,1000)\n",
    "while (distribution_context_state(ctx)$time <= 1.5) {\n",
    "    distribution_context_step(ctx)\n",
    "}\n",
    "\n",
    "cat(paste(\"Finding stopping time took \", proc.time()[3] - time, \"seconds\\n\"))\n",
    "\n",
    "\n",
    "algorithm_expectation <- matrix(nrow=n1+1,ncol=n2+1)\n",
    "\n",
    "time <- proc.time()[3]\n",
    "k <- expectation(g)\n",
    "\n",
    "cat(paste(\"Moment graph took \", proc.time()[3] - time, \"seconds\\n\"))\n",
    "\n",
    "time <- proc.time()[3]\n",
    "for (i in 0:n1) {\n",
    "  for (j in 0:n2) {\n",
    "    algorithm_expectation[i+1, j+1]<- expectation(g, rewards_at(g, i,j,n1,n2))\n",
    "    }\n",
    "}\n",
    "\n",
    "cat(paste(\"Expectations took \", proc.time()[3] - time, \"seconds\\n\"))"
   ]
  }
 ],
 "metadata": {
  "kernelspec": {
   "display_name": "R",
   "language": "R",
   "name": "ir"
  },
  "language_info": {
   "codemirror_mode": "r",
   "file_extension": ".r",
   "mimetype": "text/x-r-source",
   "name": "R",
   "pygments_lexer": "r",
   "version": "4.1.2"
  }
 },
 "nbformat": 4,
 "nbformat_minor": 2
}
