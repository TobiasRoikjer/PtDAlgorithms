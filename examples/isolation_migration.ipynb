{
 "cells": [
  {
   "cell_type": "code",
   "execution_count": 1,
   "metadata": {},
   "outputs": [
    {
     "name": "stderr",
     "output_type": "stream",
     "text": [
      "Installing package into ‘/home/tobias/R/x86_64-pc-linux-gnu-library/4.1’\n",
      "(as ‘lib’ is unspecified)\n",
      "\n",
      "Loading required package: usethis\n",
      "\n",
      "Downloading GitHub repo TobiasRoikjer/PtDAlgorithms@HEAD\n",
      "\n"
     ]
    },
    {
     "name": "stdout",
     "output_type": "stream",
     "text": [
      "\n",
      "\u001b[32m✔\u001b[39m  \u001b[90mchecking for file ‘/tmp/RtmpThPsM1/remotes53755078a75/TobiasRoikjer-PtDAlgorithms-a4fbecd/DESCRIPTION’\u001b[39m\u001b[36m\u001b[36m (408ms)\u001b[36m\u001b[39m\n",
      "\u001b[90m─\u001b[39m\u001b[90m  \u001b[39m\u001b[90mpreparing ‘ptdalgorithms’:\u001b[39m\u001b[36m\u001b[39m\n",
      "\u001b[32m✔\u001b[39m  \u001b[90mchecking DESCRIPTION meta-information\u001b[39m\u001b[36m\u001b[39m\n",
      "\u001b[90m─\u001b[39m\u001b[90m  \u001b[39m\u001b[90mcleaning src\u001b[39m\u001b[36m\u001b[39m\n",
      "\u001b[90m─\u001b[39m\u001b[90m  \u001b[39m\u001b[90mchecking for LF line-endings in source and make files and shell scripts\u001b[39m\u001b[36m\u001b[36m (426ms)\u001b[36m\u001b[39m\n",
      "\u001b[90m─\u001b[39m\u001b[90m  \u001b[39m\u001b[90mchecking for empty or unneeded directories\u001b[39m\u001b[36m\u001b[39m\n",
      "   Omitted ‘LazyData’ from DESCRIPTION\n",
      "\u001b[90m─\u001b[39m\u001b[90m  \u001b[39m\u001b[90mbuilding ‘ptdalgorithms_1.0.0.tar.gz’\u001b[39m\u001b[36m\u001b[39m\n",
      "   \n",
      "\r"
     ]
    },
    {
     "name": "stderr",
     "output_type": "stream",
     "text": [
      "Installing package into ‘/home/tobias/R/x86_64-pc-linux-gnu-library/4.1’\n",
      "(as ‘lib’ is unspecified)\n",
      "\n"
     ]
    }
   ],
   "source": [
    "# We install the package through devtools::install_github\n",
    "# This requires the \"devtools\" package to be installed\n",
    "install.packages(\"devtools\",  INSTALL_opts = c('--no-lock'))\n",
    "library(devtools)\n",
    "devtools::install_github(\"TobiasRoikjer/PtDAlgorithms\")"
   ]
  },
  {
   "cell_type": "code",
   "execution_count": 2,
   "metadata": {},
   "outputs": [],
   "source": [
    "# Import the functions in the library\n",
    "library(ptdalgorithms)\n",
    "\n",
    "# The library supports setting seeds for some of its\n",
    "# sampling capability, as any other R package\n",
    "set.seed(1234)"
   ]
  },
  {
   "cell_type": "code",
   "execution_count": 3,
   "metadata": {},
   "outputs": [],
   "source": [
    "# While the R api can create graphs, this is *slow* as the C++ binding layer\n",
    "# through Rcpp is slow when invoking many functions, and since R is a slow,\n",
    "# interpreted language\n",
    "# Clone or download the code, and include these files in the repository!\n",
    "# Make SURE that the version of the downloaded code is the same as the\n",
    "# installed R library!! Otherwise it may crash randomly\n",
    "# The file has comments and is easy to understand, so you should be able\n",
    "# to defined you own cool construction functions\n",
    "\n",
    "Rcpp::sourceCpp(\"./isolation_migration_model.cpp\")"
   ]
  },
  {
   "cell_type": "code",
   "execution_count": 4,
   "metadata": {},
   "outputs": [
    {
     "name": "stdout",
     "output_type": "stream",
     "text": [
      "Construction took  8.26 seconds\n",
      "Finding stopping time took  147.201 seconds\n",
      "Moment graph took  684.106 seconds\n",
      "Expectations took  59.935 seconds\n"
     ]
    },
    {
     "data": {
      "text/html": [
       "<table class=\"dataframe\">\n",
       "<caption>A matrix: 9 × 9 of type dbl</caption>\n",
       "<tbody>\n",
       "\t<tr><td>0.0000000</td><td>2.13609080</td><td>1.11315340</td><td>0.78181022</td><td>0.63148324</td><td>0.56624840</td><td>0.57205493</td><td>0.72144128</td><td>2.8280090</td></tr>\n",
       "\t<tr><td>2.1360908</td><td>0.07749005</td><td>0.05854808</td><td>0.05465698</td><td>0.05573244</td><td>0.06099544</td><td>0.07349038</td><td>0.10893591</td><td>0.5399685</td></tr>\n",
       "\t<tr><td>1.1131534</td><td>0.05854808</td><td>0.03817934</td><td>0.03280239</td><td>0.03188839</td><td>0.03395269</td><td>0.04028362</td><td>0.05931562</td><td>0.3234753</td></tr>\n",
       "\t<tr><td>0.7818102</td><td>0.05465698</td><td>0.03280239</td><td>0.02632106</td><td>0.02426083</td><td>0.02476811</td><td>0.02838357</td><td>0.04054851</td><td>0.2399767</td></tr>\n",
       "\t<tr><td>0.6314832</td><td>0.05573244</td><td>0.03188839</td><td>0.02426083</td><td>0.02124944</td><td>0.02067761</td><td>0.02261989</td><td>0.03079193</td><td>0.1959471</td></tr>\n",
       "\t<tr><td>0.5662484</td><td>0.06099544</td><td>0.03395269</td><td>0.02476811</td><td>0.02067761</td><td>0.01910199</td><td>0.01973611</td><td>0.02510184</td><td>0.1692997</td></tr>\n",
       "\t<tr><td>0.5720549</td><td>0.07349038</td><td>0.04028362</td><td>0.02838357</td><td>0.02261989</td><td>0.01973611</td><td>0.01900748</td><td>0.02199899</td><td>0.1522455</td></tr>\n",
       "\t<tr><td>0.7214413</td><td>0.10893591</td><td>0.05931562</td><td>0.04054851</td><td>0.03079193</td><td>0.02510184</td><td>0.02199899</td><td>0.02208418</td><td>0.1420733</td></tr>\n",
       "\t<tr><td>2.8280090</td><td>0.53996845</td><td>0.32347530</td><td>0.23997669</td><td>0.19594711</td><td>0.16929970</td><td>0.15224550</td><td>0.14207334</td><td>0.0000000</td></tr>\n",
       "</tbody>\n",
       "</table>\n"
      ],
      "text/latex": [
       "A matrix: 9 × 9 of type dbl\n",
       "\\begin{tabular}{lllllllll}\n",
       "\t 0.0000000 & 2.13609080 & 1.11315340 & 0.78181022 & 0.63148324 & 0.56624840 & 0.57205493 & 0.72144128 & 2.8280090\\\\\n",
       "\t 2.1360908 & 0.07749005 & 0.05854808 & 0.05465698 & 0.05573244 & 0.06099544 & 0.07349038 & 0.10893591 & 0.5399685\\\\\n",
       "\t 1.1131534 & 0.05854808 & 0.03817934 & 0.03280239 & 0.03188839 & 0.03395269 & 0.04028362 & 0.05931562 & 0.3234753\\\\\n",
       "\t 0.7818102 & 0.05465698 & 0.03280239 & 0.02632106 & 0.02426083 & 0.02476811 & 0.02838357 & 0.04054851 & 0.2399767\\\\\n",
       "\t 0.6314832 & 0.05573244 & 0.03188839 & 0.02426083 & 0.02124944 & 0.02067761 & 0.02261989 & 0.03079193 & 0.1959471\\\\\n",
       "\t 0.5662484 & 0.06099544 & 0.03395269 & 0.02476811 & 0.02067761 & 0.01910199 & 0.01973611 & 0.02510184 & 0.1692997\\\\\n",
       "\t 0.5720549 & 0.07349038 & 0.04028362 & 0.02838357 & 0.02261989 & 0.01973611 & 0.01900748 & 0.02199899 & 0.1522455\\\\\n",
       "\t 0.7214413 & 0.10893591 & 0.05931562 & 0.04054851 & 0.03079193 & 0.02510184 & 0.02199899 & 0.02208418 & 0.1420733\\\\\n",
       "\t 2.8280090 & 0.53996845 & 0.32347530 & 0.23997669 & 0.19594711 & 0.16929970 & 0.15224550 & 0.14207334 & 0.0000000\\\\\n",
       "\\end{tabular}\n"
      ],
      "text/markdown": [
       "\n",
       "A matrix: 9 × 9 of type dbl\n",
       "\n",
       "| 0.0000000 | 2.13609080 | 1.11315340 | 0.78181022 | 0.63148324 | 0.56624840 | 0.57205493 | 0.72144128 | 2.8280090 |\n",
       "| 2.1360908 | 0.07749005 | 0.05854808 | 0.05465698 | 0.05573244 | 0.06099544 | 0.07349038 | 0.10893591 | 0.5399685 |\n",
       "| 1.1131534 | 0.05854808 | 0.03817934 | 0.03280239 | 0.03188839 | 0.03395269 | 0.04028362 | 0.05931562 | 0.3234753 |\n",
       "| 0.7818102 | 0.05465698 | 0.03280239 | 0.02632106 | 0.02426083 | 0.02476811 | 0.02838357 | 0.04054851 | 0.2399767 |\n",
       "| 0.6314832 | 0.05573244 | 0.03188839 | 0.02426083 | 0.02124944 | 0.02067761 | 0.02261989 | 0.03079193 | 0.1959471 |\n",
       "| 0.5662484 | 0.06099544 | 0.03395269 | 0.02476811 | 0.02067761 | 0.01910199 | 0.01973611 | 0.02510184 | 0.1692997 |\n",
       "| 0.5720549 | 0.07349038 | 0.04028362 | 0.02838357 | 0.02261989 | 0.01973611 | 0.01900748 | 0.02199899 | 0.1522455 |\n",
       "| 0.7214413 | 0.10893591 | 0.05931562 | 0.04054851 | 0.03079193 | 0.02510184 | 0.02199899 | 0.02208418 | 0.1420733 |\n",
       "| 2.8280090 | 0.53996845 | 0.32347530 | 0.23997669 | 0.19594711 | 0.16929970 | 0.15224550 | 0.14207334 | 0.0000000 |\n",
       "\n"
      ],
      "text/plain": [
       "      [,1]      [,2]       [,3]       [,4]       [,5]       [,6]      \n",
       " [1,] 0.0000000 2.13609080 1.11315340 0.78181022 0.63148324 0.56624840\n",
       " [2,] 2.1360908 0.07749005 0.05854808 0.05465698 0.05573244 0.06099544\n",
       " [3,] 1.1131534 0.05854808 0.03817934 0.03280239 0.03188839 0.03395269\n",
       " [4,] 0.7818102 0.05465698 0.03280239 0.02632106 0.02426083 0.02476811\n",
       " [5,] 0.6314832 0.05573244 0.03188839 0.02426083 0.02124944 0.02067761\n",
       " [6,] 0.5662484 0.06099544 0.03395269 0.02476811 0.02067761 0.01910199\n",
       " [7,] 0.5720549 0.07349038 0.04028362 0.02838357 0.02261989 0.01973611\n",
       " [8,] 0.7214413 0.10893591 0.05931562 0.04054851 0.03079193 0.02510184\n",
       " [9,] 2.8280090 0.53996845 0.32347530 0.23997669 0.19594711 0.16929970\n",
       "      [,7]       [,8]       [,9]     \n",
       " [1,] 0.57205493 0.72144128 2.8280090\n",
       " [2,] 0.07349038 0.10893591 0.5399685\n",
       " [3,] 0.04028362 0.05931562 0.3234753\n",
       " [4,] 0.02838357 0.04054851 0.2399767\n",
       " [5,] 0.02261989 0.03079193 0.1959471\n",
       " [6,] 0.01973611 0.02510184 0.1692997\n",
       " [7,] 0.01900748 0.02199899 0.1522455\n",
       " [8,] 0.02199899 0.02208418 0.1420733\n",
       " [9,] 0.15224550 0.14207334 0.0000000"
      ]
     },
     "metadata": {},
     "output_type": "display_data"
    }
   ],
   "source": [
    "# Construction of IM model and computation of expectations\n",
    "\n",
    "n1 <- 8\n",
    "n2 <- 8\n",
    "\n",
    "time <- proc.time()[3]\n",
    "g <- construct_im_graph(n1,n2,0.1,0.1)\n",
    "\n",
    "cat(paste(\"Construction took \", proc.time()[3] - time, \"seconds\\n\"))\n",
    "\n",
    "expected_visits <- rep(0, vertices_length(g))\n",
    "time <- proc.time()[3]\n",
    "ctx <- distribution_context(g,1000)\n",
    "while (distribution_context_state(ctx)$time <= 1.5) {\n",
    "    distribution_context_step(ctx)\n",
    "}\n",
    "\n",
    "cat(paste(\"Finding stopping time took \", proc.time()[3] - time, \"seconds\\n\"))\n",
    "\n",
    "\n",
    "algorithm_expectation <- matrix(nrow=n1+1,ncol=n2+1)\n",
    "\n",
    "time <- proc.time()[3]\n",
    "k <- expectation(g)\n",
    "\n",
    "cat(paste(\"Moment graph took \", proc.time()[3] - time, \"seconds\\n\"))\n",
    "\n",
    "time <- proc.time()[3]\n",
    "for (i in 0:n1) {\n",
    "  for (j in 0:n2) {\n",
    "    algorithm_expectation[i+1, j+1]<- expectation(g, rewards_at(g, i,j,n1,n2))\n",
    "    }\n",
    "}\n",
    "\n",
    "cat(paste(\"Expectations took \", proc.time()[3] - time, \"seconds\\n\"))\n",
    "algorithm_expectation"
   ]
  },
  {
   "cell_type": "code",
   "execution_count": 5,
   "metadata": {},
   "outputs": [
    {
     "data": {
      "text/html": [
       "1.11161080340594e-14"
      ],
      "text/latex": [
       "1.11161080340594e-14"
      ],
      "text/markdown": [
       "1.11161080340594e-14"
      ],
      "text/plain": [
       "[1] 1.111611e-14"
      ]
     },
     "metadata": {},
     "output_type": "display_data"
    },
    {
     "data": {
      "text/html": [
       "0.366276506599899"
      ],
      "text/latex": [
       "0.366276506599899"
      ],
      "text/markdown": [
       "0.366276506599899"
      ],
      "text/plain": [
       "[1] 0.3662765"
      ]
     },
     "metadata": {},
     "output_type": "display_data"
    },
    {
     "data": {
      "text/html": [
       "0.00123827254283529"
      ],
      "text/latex": [
       "0.00123827254283529"
      ],
      "text/markdown": [
       "0.00123827254283529"
      ],
      "text/plain": [
       "[1] 0.001238273"
      ]
     },
     "metadata": {},
     "output_type": "display_data"
    }
   ],
   "source": [
    "# Comparing results to verify implementation/numerical accuracy\n",
    "n1 <- 4\n",
    "n2 <- 4\n",
    "\n",
    "g <- construct_im_graph(n1,n2,0.1,0.1)\n",
    "\n",
    "expected_visits <- rep(0, vertices_length(g))\n",
    "ctx <- distribution_context(g,1000)\n",
    "while (distribution_context_state(ctx)$cdf < 0.9999) {\n",
    "  distribution_context_step(ctx)\n",
    "}\n",
    "\n",
    "expected_visits <- distribution_context_accumulated_visiting_time(ctx)\n",
    "\n",
    "distribution_expectation <- matrix(nrow=n1+1,ncol=n2+1)\n",
    "algorithm_expectation <- matrix(nrow=n1+1,ncol=n2+1)\n",
    "matrix_expectation <- matrix(nrow=n1+1,ncol=n2+1)\n",
    "simulation_expectation <- matrix(nrow=n1+1,ncol=n2+1)\n",
    "PH <- graph_as_matrix(g)\n",
    "U <- solve(-PH$SIM)\n",
    "set.seed(1234)\n",
    "\n",
    "for (i in 0:n1) {\n",
    "  for (j in 0:n2) {\n",
    "    distribution_expectation[i+1,j+1] <- sum(expected_visits * rewards_at(g, i,j,n1,n2))\n",
    "    algorithm_expectation[i+1, j+1]<- expectation(g, rewards_at(g, i,j,n1,n2))\n",
    "    simulation_expectation[i+1, j+1]<- mean(rph(10000, g, rewards_at(g, i,j,n1,n2)))\n",
    "    matrix_expectation[i+1,j+1] <-PH$IPV %*% U%*%diag(PH$states[,(matrix_index(i,j,0,n1,n2)+1)]+PH$states[,(matrix_index(i,j,1,n1,n2)+1)])%*%rep(1,length(PH$IPV))\n",
    "  }\n",
    "}\n",
    "\n",
    "sum(abs(matrix_expectation - algorithm_expectation))\n",
    "sum(abs(matrix_expectation - simulation_expectation))\n",
    "sum(abs(matrix_expectation - distribution_expectation))"
   ]
  }
 ],
 "metadata": {
  "kernelspec": {
   "display_name": "R",
   "language": "R",
   "name": "ir"
  },
  "language_info": {
   "codemirror_mode": "r",
   "file_extension": ".r",
   "mimetype": "text/x-r-source",
   "name": "R",
   "pygments_lexer": "r",
   "version": "4.1.2"
  }
 },
 "nbformat": 4,
 "nbformat_minor": 2
}
