{
 "cells": [
  {
   "cell_type": "code",
   "execution_count": 1,
   "metadata": {},
   "outputs": [
    {
     "name": "stderr",
     "output_type": "stream",
     "text": [
      "Installing package into ‘/home/tobias/R/x86_64-pc-linux-gnu-library/4.1’\n",
      "(as ‘lib’ is unspecified)\n",
      "\n",
      "Loading required package: usethis\n",
      "\n",
      "Downloading GitHub repo TobiasRoikjer/PtDAlgorithms@HEAD\n",
      "\n"
     ]
    },
    {
     "name": "stdout",
     "output_type": "stream",
     "text": [
      "\n",
      "\u001b[32m✔\u001b[39m  \u001b[90mchecking for file ‘/tmp/RtmpThPsM1/remotes53755078a75/TobiasRoikjer-PtDAlgorithms-a4fbecd/DESCRIPTION’\u001b[39m\u001b[36m\u001b[36m (408ms)\u001b[36m\u001b[39m\n",
      "\u001b[90m─\u001b[39m\u001b[90m  \u001b[39m\u001b[90mpreparing ‘ptdalgorithms’:\u001b[39m\u001b[36m\u001b[39m\n",
      "\u001b[32m✔\u001b[39m  \u001b[90mchecking DESCRIPTION meta-information\u001b[39m\u001b[36m\u001b[39m\n",
      "\u001b[90m─\u001b[39m\u001b[90m  \u001b[39m\u001b[90mcleaning src\u001b[39m\u001b[36m\u001b[39m\n",
      "\u001b[90m─\u001b[39m\u001b[90m  \u001b[39m\u001b[90mchecking for LF line-endings in source and make files and shell scripts\u001b[39m\u001b[36m\u001b[36m (426ms)\u001b[36m\u001b[39m\n",
      "\u001b[90m─\u001b[39m\u001b[90m  \u001b[39m\u001b[90mchecking for empty or unneeded directories\u001b[39m\u001b[36m\u001b[39m\n",
      "   Omitted ‘LazyData’ from DESCRIPTION\n",
      "\u001b[90m─\u001b[39m\u001b[90m  \u001b[39m\u001b[90mbuilding ‘ptdalgorithms_1.0.0.tar.gz’\u001b[39m\u001b[36m\u001b[39m\n",
      "   \n",
      "\r"
     ]
    },
    {
     "name": "stderr",
     "output_type": "stream",
     "text": [
      "Installing package into ‘/home/tobias/R/x86_64-pc-linux-gnu-library/4.1’\n",
      "(as ‘lib’ is unspecified)\n",
      "\n"
     ]
    }
   ],
   "source": [
    "# We install the package through devtools::install_github\n",
    "# This requires the \"devtools\" package to be installed\n",
    "install.packages(\"devtools\",  INSTALL_opts = c('--no-lock'))\n",
    "library(devtools)\n",
    "devtools::install_github(\"TobiasRoikjer/PtDAlgorithms\")"
   ]
  },
  {
   "cell_type": "code",
   "execution_count": 2,
   "metadata": {},
   "outputs": [],
   "source": [
    "# Import the functions in the library\n",
    "library(ptdalgorithms)\n",
    "\n",
    "# The library supports setting seeds for some of its\n",
    "# sampling capability, as any other R package\n",
    "set.seed(1234)"
   ]
  },
  {
   "cell_type": "code",
   "execution_count": 3,
   "metadata": {},
   "outputs": [],
   "source": [
    "# While the R api can create graphs, this is *slow* as the C++ binding layer\n",
    "# through Rcpp is slow when invoking many functions, and since R is a slow,\n",
    "# interpreted language\n",
    "# Clone or download the code, and include these files in the repository!\n",
    "# Make SURE that the version of the downloaded code is the same as the\n",
    "# installed R library!! Otherwise it may crash randomly\n",
    "# The file has comments and is easy to understand, so you should be able\n",
    "# to defined you own cool construction functions\n",
    "\n",
    "Rcpp::sourceCpp(\"./isolation_migration_model.cpp\")"
   ]
  },
  {
   "cell_type": "code",
   "execution_count": 15,
   "metadata": {},
   "outputs": [
    {
     "name": "stdout",
     "output_type": "stream",
     "text": [
      "Construction took  8.23700000000002 seconds\n",
      "Finding stopping time took  182.073 seconds\n",
      "Moment graph took  475.957 seconds\n",
      "Expectations took  118.025 seconds\n"
     ]
    },
    {
     "data": {
      "text/html": [
       "<table class=\"dataframe\">\n",
       "<caption>A matrix: 9 × 9 of type dbl</caption>\n",
       "<tbody>\n",
       "\t<tr><td>0.0000000</td><td>1.94437055</td><td>0.91728479</td><td>0.57500500</td><td>0.405301445</td><td>0.305973594</td><td>0.244728461</td><td>0.216488684</td><td>0.43214155</td></tr>\n",
       "\t<tr><td>1.9443705</td><td>0.05601000</td><td>0.03866822</td><td>0.03280713</td><td>0.029739771</td><td>0.027952386</td><td>0.027373938</td><td>0.029861369</td><td>0.08763481</td></tr>\n",
       "\t<tr><td>0.9172848</td><td>0.03866822</td><td>0.02326801</td><td>0.01852383</td><td>0.016371045</td><td>0.015327841</td><td>0.015176856</td><td>0.017021119</td><td>0.05885976</td></tr>\n",
       "\t<tr><td>0.5750050</td><td>0.03280713</td><td>0.01852383</td><td>0.01414322</td><td>0.012209738</td><td>0.011305574</td><td>0.011164441</td><td>0.012576153</td><td>0.04919712</td></tr>\n",
       "\t<tr><td>0.4053014</td><td>0.02973977</td><td>0.01637104</td><td>0.01220974</td><td>0.010368679</td><td>0.009498186</td><td>0.009309170</td><td>0.010399057</td><td>0.04499304</td></tr>\n",
       "\t<tr><td>0.3059736</td><td>0.02795239</td><td>0.01532784</td><td>0.01130557</td><td>0.009498186</td><td>0.008616454</td><td>0.008355782</td><td>0.009165145</td><td>0.04312298</td></tr>\n",
       "\t<tr><td>0.2447285</td><td>0.02737394</td><td>0.01517686</td><td>0.01116444</td><td>0.009309170</td><td>0.008355782</td><td>0.007979437</td><td>0.008494327</td><td>0.04254818</td></tr>\n",
       "\t<tr><td>0.2164887</td><td>0.02986137</td><td>0.01702112</td><td>0.01257615</td><td>0.010399057</td><td>0.009165145</td><td>0.008494327</td><td>0.008554401</td><td>0.04304601</td></tr>\n",
       "\t<tr><td>0.4321415</td><td>0.08763481</td><td>0.05885976</td><td>0.04919712</td><td>0.044993039</td><td>0.043122980</td><td>0.042548176</td><td>0.043046013</td><td>0.00000000</td></tr>\n",
       "</tbody>\n",
       "</table>\n"
      ],
      "text/latex": [
       "A matrix: 9 × 9 of type dbl\n",
       "\\begin{tabular}{lllllllll}\n",
       "\t 0.0000000 & 1.94437055 & 0.91728479 & 0.57500500 & 0.405301445 & 0.305973594 & 0.244728461 & 0.216488684 & 0.43214155\\\\\n",
       "\t 1.9443705 & 0.05601000 & 0.03866822 & 0.03280713 & 0.029739771 & 0.027952386 & 0.027373938 & 0.029861369 & 0.08763481\\\\\n",
       "\t 0.9172848 & 0.03866822 & 0.02326801 & 0.01852383 & 0.016371045 & 0.015327841 & 0.015176856 & 0.017021119 & 0.05885976\\\\\n",
       "\t 0.5750050 & 0.03280713 & 0.01852383 & 0.01414322 & 0.012209738 & 0.011305574 & 0.011164441 & 0.012576153 & 0.04919712\\\\\n",
       "\t 0.4053014 & 0.02973977 & 0.01637104 & 0.01220974 & 0.010368679 & 0.009498186 & 0.009309170 & 0.010399057 & 0.04499304\\\\\n",
       "\t 0.3059736 & 0.02795239 & 0.01532784 & 0.01130557 & 0.009498186 & 0.008616454 & 0.008355782 & 0.009165145 & 0.04312298\\\\\n",
       "\t 0.2447285 & 0.02737394 & 0.01517686 & 0.01116444 & 0.009309170 & 0.008355782 & 0.007979437 & 0.008494327 & 0.04254818\\\\\n",
       "\t 0.2164887 & 0.02986137 & 0.01702112 & 0.01257615 & 0.010399057 & 0.009165145 & 0.008494327 & 0.008554401 & 0.04304601\\\\\n",
       "\t 0.4321415 & 0.08763481 & 0.05885976 & 0.04919712 & 0.044993039 & 0.043122980 & 0.042548176 & 0.043046013 & 0.00000000\\\\\n",
       "\\end{tabular}\n"
      ],
      "text/markdown": [
       "\n",
       "A matrix: 9 × 9 of type dbl\n",
       "\n",
       "| 0.0000000 | 1.94437055 | 0.91728479 | 0.57500500 | 0.405301445 | 0.305973594 | 0.244728461 | 0.216488684 | 0.43214155 |\n",
       "| 1.9443705 | 0.05601000 | 0.03866822 | 0.03280713 | 0.029739771 | 0.027952386 | 0.027373938 | 0.029861369 | 0.08763481 |\n",
       "| 0.9172848 | 0.03866822 | 0.02326801 | 0.01852383 | 0.016371045 | 0.015327841 | 0.015176856 | 0.017021119 | 0.05885976 |\n",
       "| 0.5750050 | 0.03280713 | 0.01852383 | 0.01414322 | 0.012209738 | 0.011305574 | 0.011164441 | 0.012576153 | 0.04919712 |\n",
       "| 0.4053014 | 0.02973977 | 0.01637104 | 0.01220974 | 0.010368679 | 0.009498186 | 0.009309170 | 0.010399057 | 0.04499304 |\n",
       "| 0.3059736 | 0.02795239 | 0.01532784 | 0.01130557 | 0.009498186 | 0.008616454 | 0.008355782 | 0.009165145 | 0.04312298 |\n",
       "| 0.2447285 | 0.02737394 | 0.01517686 | 0.01116444 | 0.009309170 | 0.008355782 | 0.007979437 | 0.008494327 | 0.04254818 |\n",
       "| 0.2164887 | 0.02986137 | 0.01702112 | 0.01257615 | 0.010399057 | 0.009165145 | 0.008494327 | 0.008554401 | 0.04304601 |\n",
       "| 0.4321415 | 0.08763481 | 0.05885976 | 0.04919712 | 0.044993039 | 0.043122980 | 0.042548176 | 0.043046013 | 0.00000000 |\n",
       "\n"
      ],
      "text/plain": [
       "      [,1]      [,2]       [,3]       [,4]       [,5]        [,6]       \n",
       " [1,] 0.0000000 1.94437055 0.91728479 0.57500500 0.405301445 0.305973594\n",
       " [2,] 1.9443705 0.05601000 0.03866822 0.03280713 0.029739771 0.027952386\n",
       " [3,] 0.9172848 0.03866822 0.02326801 0.01852383 0.016371045 0.015327841\n",
       " [4,] 0.5750050 0.03280713 0.01852383 0.01414322 0.012209738 0.011305574\n",
       " [5,] 0.4053014 0.02973977 0.01637104 0.01220974 0.010368679 0.009498186\n",
       " [6,] 0.3059736 0.02795239 0.01532784 0.01130557 0.009498186 0.008616454\n",
       " [7,] 0.2447285 0.02737394 0.01517686 0.01116444 0.009309170 0.008355782\n",
       " [8,] 0.2164887 0.02986137 0.01702112 0.01257615 0.010399057 0.009165145\n",
       " [9,] 0.4321415 0.08763481 0.05885976 0.04919712 0.044993039 0.043122980\n",
       "      [,7]        [,8]        [,9]      \n",
       " [1,] 0.244728461 0.216488684 0.43214155\n",
       " [2,] 0.027373938 0.029861369 0.08763481\n",
       " [3,] 0.015176856 0.017021119 0.05885976\n",
       " [4,] 0.011164441 0.012576153 0.04919712\n",
       " [5,] 0.009309170 0.010399057 0.04499304\n",
       " [6,] 0.008355782 0.009165145 0.04312298\n",
       " [7,] 0.007979437 0.008494327 0.04254818\n",
       " [8,] 0.008494327 0.008554401 0.04304601\n",
       " [9,] 0.042548176 0.043046013 0.00000000"
      ]
     },
     "metadata": {},
     "output_type": "display_data"
    }
   ],
   "source": [
    "# Construction of IM model and computation of expectations\n",
    "\n",
    "n1 <- 8\n",
    "n2 <- 8\n",
    "\n",
    "time <- proc.time()[3]\n",
    "im_graph <- construct_im_graph(n1,n2,0.1,0.1)\n",
    "ancestral_graph <- construct_ancestral_graph(n1, n2)\n",
    "\n",
    "cat(paste(\"Construction took \", proc.time()[3] - time, \"seconds\\n\"))\n",
    "\n",
    "time <- proc.time()[3]\n",
    "\n",
    "ancestral_start_probability <-\n",
    "    start_prob_from_im(ancestral_graph, im_graph, stop_probability(im_graph, time = 1.5))\n",
    "\n",
    "cat(paste(\"Finding stopping time took \", proc.time()[3] - time, \"seconds\\n\"))\n",
    "\n",
    "\n",
    "full_im_expectation <- matrix(nrow=n1+1,ncol=n2+1)\n",
    "truncation_im_expectation <- matrix(nrow=n1+1,ncol=n2+1)\n",
    "ancestral_expectation <- matrix(nrow=n1+1,ncol=n2+1)\n",
    "\n",
    "time <- proc.time()[3]\n",
    "# This is just to get the timing, not necessary\n",
    "k <- expectation(im_graph)\n",
    "\n",
    "cat(paste(\"Moment graph took \", proc.time()[3] - time, \"seconds\\n\"))\n",
    "\n",
    "time <- proc.time()[3]\n",
    "for (i in 0:n1) {\n",
    "  for (j in 0:n2) {\n",
    "        full_im_expectation[i+1, j+1]<- expectation(im_graph, rewards_at(im_graph, i,j,n1,n2))\n",
    "        truncation_im_expectation[i+1, j+1]<-\n",
    "          sum(distribution_context_stop_probability(ctx) *\n",
    "              expected_waiting_time(im_graph, rewards_at(im_graph, i,j,n1,n2)))\n",
    "        ancestral_expectation[i+1, j+1]<-\n",
    "          sum(ancestral_start_probability *\n",
    "              expected_waiting_time(ancestral_graph, rewards_at(ancestral_graph, i,j,n1,n2)))\n",
    "    }\n",
    "}\n",
    "\n",
    "cat(paste(\"Expectations took \", proc.time()[3] - time, \"seconds\\n\"))\n",
    "full_im_expectation - truncation_im_expectation + ancestral_expectation\n"
   ]
  },
  {
   "cell_type": "code",
   "execution_count": 16,
   "metadata": {},
   "outputs": [
    {
     "data": {
      "text/html": [
       "1.21430643318376e-14"
      ],
      "text/latex": [
       "1.21430643318376e-14"
      ],
      "text/markdown": [
       "1.21430643318376e-14"
      ],
      "text/plain": [
       "[1] 1.214306e-14"
      ]
     },
     "metadata": {},
     "output_type": "display_data"
    },
    {
     "data": {
      "text/html": [
       "0.366276506599899"
      ],
      "text/latex": [
       "0.366276506599899"
      ],
      "text/markdown": [
       "0.366276506599899"
      ],
      "text/plain": [
       "[1] 0.3662765"
      ]
     },
     "metadata": {},
     "output_type": "display_data"
    },
    {
     "data": {
      "text/html": [
       "0.00123827254283529"
      ],
      "text/latex": [
       "0.00123827254283529"
      ],
      "text/markdown": [
       "0.00123827254283529"
      ],
      "text/plain": [
       "[1] 0.001238273"
      ]
     },
     "metadata": {},
     "output_type": "display_data"
    }
   ],
   "source": [
    "# Comparing results to verify implementation/numerical accuracy\n",
    "n1 <- 4\n",
    "n2 <- 4\n",
    "\n",
    "g <- construct_im_graph(n1,n2,0.1,0.1)\n",
    "\n",
    "expected_visits <- rep(0, vertices_length(g))\n",
    "ctx <- distribution_context(g,1000)\n",
    "while (distribution_context_state(ctx)$cdf < 0.9999) {\n",
    "  distribution_context_step(ctx)\n",
    "}\n",
    "\n",
    "expected_visits <- distribution_context_accumulated_visiting_time(ctx)\n",
    "\n",
    "distribution_expectation <- matrix(nrow=n1+1,ncol=n2+1)\n",
    "algorithm_expectation <- matrix(nrow=n1+1,ncol=n2+1)\n",
    "matrix_expectation <- matrix(nrow=n1+1,ncol=n2+1)\n",
    "simulation_expectation <- matrix(nrow=n1+1,ncol=n2+1)\n",
    "PH <- graph_as_matrix(g)\n",
    "U <- solve(-PH$SIM)\n",
    "set.seed(1234)\n",
    "\n",
    "for (i in 0:n1) {\n",
    "  for (j in 0:n2) {\n",
    "    distribution_expectation[i+1,j+1] <- sum(expected_visits * rewards_at(g, i,j,n1,n2))\n",
    "    algorithm_expectation[i+1, j+1]<- expectation(g, rewards_at(g, i,j,n1,n2))\n",
    "    simulation_expectation[i+1, j+1]<- mean(rph(10000, g, rewards_at(g, i,j,n1,n2)))\n",
    "    matrix_expectation[i+1,j+1] <-PH$IPV %*% U%*%diag(PH$states[,(matrix_index(i,j,0,n1,n2)+1)]+PH$states[,(matrix_index(i,j,1,n1,n2)+1)])%*%rep(1,length(PH$IPV))\n",
    "  }\n",
    "}\n",
    "\n",
    "sum(abs(matrix_expectation - algorithm_expectation))\n",
    "sum(abs(matrix_expectation - simulation_expectation))\n",
    "sum(abs(matrix_expectation - distribution_expectation))"
   ]
  }
 ],
 "metadata": {
  "kernelspec": {
   "display_name": "R",
   "language": "R",
   "name": "ir"
  },
  "language_info": {
   "codemirror_mode": "r",
   "file_extension": ".r",
   "mimetype": "text/x-r-source",
   "name": "R",
   "pygments_lexer": "r",
   "version": "4.1.2"
  }
 },
 "nbformat": 4,
 "nbformat_minor": 2
}
