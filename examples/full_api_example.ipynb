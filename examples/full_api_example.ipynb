{
 "cells": [
  {
   "cell_type": "markdown",
   "metadata": {},
   "source": [
    "# Full API example of ptdalgorithms\n",
    "This notebook will describe almost all functions of the ptdalgorithms R package. The core functionality is implemented in C, with a binding layer to R through C++ and Rcpp. Except for the specified construction code of the state space, most code will be almost equally fast to invoking the C api directly (maybe twice as slow). The package is based on graph algorithms published in (...), and is many orders of magnitude faster than matrix-based equations which are usually applied. We do not recommend using the C++ api directly.\n",
    "\n",
    "We will show how to install the package and construct a state space through the R api. We will then show how to compute the moments (expectation, variance) through the ptdalgorithms package, and how to compute the distribution functions. This means that you can make discrete and continuous phase-type distributions, compute their moments, distribution functions, sample from them, compute rewards and multivariate distributions, and time inhomogenous distributions.\n",
    "\n",
    "We will also show how easy it is to create the state-space in C and return it to R, to make large graphs!"
   ]
  },
  {
   "cell_type": "markdown",
   "metadata": {},
   "source": [
    "## Installing the ptdalgorithms library"
   ]
  },
  {
   "cell_type": "code",
   "execution_count": null,
   "metadata": {},
   "outputs": [],
   "source": [
    "# We install the package through devtools::install_github\n",
    "# This requires the \"devtools\" package to be installed\n",
    "install.packages(\"devtools\",  INSTALL_opts = c('--no-lock'))\n",
    "library(devtools)\n",
    "devtools::install_github(\"TobiasRoikjer/PtDAlgorithms\")"
   ]
  },
  {
   "cell_type": "code",
   "execution_count": 14,
   "metadata": {},
   "outputs": [],
   "source": [
    "# Import the functions in the library\n",
    "library(ptdalgorithms)\n",
    "\n",
    "# The library supports setting seeds for some of its\n",
    "# sampling capability, as any other R package\n",
    "set.seed(1234)"
   ]
  },
  {
   "cell_type": "markdown",
   "metadata": {},
   "source": [
    "# State-space construction"
   ]
  },
  {
   "cell_type": "code",
   "execution_count": 4,
   "metadata": {},
   "outputs": [],
   "source": [
    "# This is an example of constructing a state-space in R.\n",
    "# The *construction* API (i.e. adding vertices and edges) is *slow* in R.\n",
    "# If we need e.g. a hundred thousand+ vertices, the R API for construction\n",
    "# should *not* be used. The C library should be used instead, and the graph\n",
    "# produced can be used in R easily.\n",
    "\n",
    "# State-space description:\n",
    "# Rabbits stay in two islands, and jump between them. At each time, there is a probability\n",
    "# of one of the islands being flooded, killing the rabbits. The phase-type distributions\n",
    "# state-space models the time until no rabbits are left.\n",
    "\n",
    "construct_rabbit_graph <- function(number_of_rabbits, flooding_rate_l, flooding_rate_r) {\n",
    "    # We represent the vector as two integers, the number of rabbits on the left and right island\n",
    "    state_vector_length <- 2\n",
    "    graph <- create_graph(state_vector_length)\n",
    "    initial_state <- c(number_of_rabbits, 0)\n",
    "    # The initial state is the only starting state, with 100% starting probability\n",
    "    add_edge(\n",
    "      starting_vertex(graph),\n",
    "      find_or_create_vertex(graph, initial_state),\n",
    "      1\n",
    "    )\n",
    "    index <- 2\n",
    "    # Iterate over all unvisited vertices\n",
    "    while (index <= vertices_length(graph)) {\n",
    "      vertex <- vertex_at(graph, index)\n",
    "      state <- vertex$state\n",
    "      if (state[1] > 0) {\n",
    "        # Rabbit jump left to right\n",
    "        child_state <- c(state[1] - 1, state[2] + 1)\n",
    "        add_edge(\n",
    "          vertex,\n",
    "          find_or_create_vertex(graph, child_state),\n",
    "          1\n",
    "        )\n",
    "\n",
    "        # Left island flooding\n",
    "        child_state <- c(0, state[2])\n",
    "        add_edge(\n",
    "          vertex,\n",
    "          find_or_create_vertex(graph, child_state),\n",
    "          flooding_rate_l\n",
    "        )\n",
    "      }\n",
    "\n",
    "      if (state[2] > 0) {\n",
    "        # Rabbit jump right to left\n",
    "        child_state <- c(state[1] + 1, state[2] - 1)\n",
    "        add_edge(\n",
    "          vertex,\n",
    "          find_or_create_vertex(graph, child_state),\n",
    "          1\n",
    "        )\n",
    "        # Right island flooding with rate of 4\n",
    "        child_state <- c(state[1], 0)\n",
    "        add_edge(\n",
    "          vertex,\n",
    "          find_or_create_vertex(graph, child_state),\n",
    "          flooding_rate_r\n",
    "        )\n",
    "      }\n",
    "      index <- index + 1\n",
    "    }\n",
    "    return(graph)\n",
    "}"
   ]
  },
  {
   "cell_type": "markdown",
   "metadata": {},
   "source": [
    "## Example of rabbit graph\n",
    "\n",
    "![Example of rabbit graph](https://github.com/TobiasRoikjer/PtDAlgorithms/blob/master/examples/graphic_rabbits.png?raw=true)"
   ]
  },
  {
   "cell_type": "markdown",
   "metadata": {},
   "source": [
    "## Continuous phase-type distribution"
   ]
  },
  {
   "cell_type": "code",
   "execution_count": 5,
   "metadata": {},
   "outputs": [
    {
     "name": "stdout",
     "output_type": "stream",
     "text": [
      "The graph has 7 vertices\n",
      "The states are:\n",
      "     Rabbits left Rabbits right\n",
      "[1,]            0             0\n",
      "[2,]            2             0\n",
      "[3,]            1             1\n",
      "[4,]            0             0\n",
      "[5,]            0             2\n",
      "[6,]            0             1\n",
      "[7,]            1             0\n",
      "\n",
      "Expectation: 0.50383 \n",
      "Variance:  0.22646 \n",
      "First three moments: 0.50383 0.4803 0.65591 \n",
      "Expected waiting time if starting in any vertex:\n",
      "\t0.50383\n",
      "\t0.50383\n",
      "\t0.51148\n",
      "\t0\n",
      "\t0.3023\n",
      "\t0.28571\n",
      "\t0.42857\n",
      "We can convert this to a sub-intensity matrix representation if we want.\n",
      "Notice how the indices do *not* correspond to our graph indices\n",
      "$states\n",
      "     [,1] [,2]\n",
      "[1,]    0    2\n",
      "[2,]    1    1\n",
      "[3,]    2    0\n",
      "[4,]    1    0\n",
      "[5,]    0    1\n",
      "\n",
      "$SIM\n",
      "     [,1] [,2] [,3] [,4] [,5]\n",
      "[1,]   -5    1    0    0    0\n",
      "[2,]    1   -8    1    4    2\n",
      "[3,]    0    1   -3    0    0\n",
      "[4,]    0    0    0   -3    1\n",
      "[5,]    0    0    0    1   -5\n",
      "\n",
      "$IPV\n",
      "[1] 0 0 1 0 0\n",
      "\n"
     ]
    }
   ],
   "source": [
    "# We can now construct the graphs by the function.\n",
    "# The flooding rates are set to 2 and 4\n",
    "graph <- construct_rabbit_graph(2, flooding_rate_l=2, flooding_rate_r=4)\n",
    "\n",
    "cat(paste(\"The graph has\", vertices_length(graph), \"vertices\\n\"))\n",
    "cat(\"The states are:\\n\")\n",
    "M <- states(graph)\n",
    "colnames(M) <- c(\"Rabbits left\", \"Rabbits right\")\n",
    "print(M)\n",
    "\n",
    "# This phase-type distribution models the time until all rabits have died\n",
    "# We can find the expectation, variance, moments\n",
    "cat(paste(\n",
    "    \"\\nExpectation:\", round(expectation(graph),5),\n",
    "    \"\\nVariance: \", round(variance(graph),5),\n",
    "    \"\\nFirst three moments:\", paste(round(moments(graph,3),5), collapse=\" \"), \"\\n\"))\n",
    "\n",
    "# We can find the expected waiting time for all start vertices\n",
    "cat(paste0(\"Expected waiting time if starting in any vertex:\\n\\t\", paste(round(expected_waiting_time(graph),5), collapse=\"\\n\\t\"), \"\\n\"))\n",
    "\n",
    "# We can convert this to a matrix-based representation.\n",
    "# This is only for easy \"compatibility\" and is rarely useful\n",
    "cat(\"We can convert this to a sub-intensity matrix representation if we want.\\n\")\n",
    "cat(\"Notice how the indices do *not* correspond to our graph indices\\n\")\n",
    "print(graph_as_matrix(graph))"
   ]
  },
  {
   "cell_type": "code",
   "execution_count": 6,
   "metadata": {},
   "outputs": [
    {
     "name": "stdout",
     "output_type": "stream",
     "text": [
      "PDF and CDF of distribution. Observe the long tails!\n"
     ]
    },
    {
     "data": {
      "image/png": "[encoded data removed]",
      "text/plain": [
       "Plot with title “Cumulative density function”"
      ]
     },
     "metadata": {
      "image/png": {
       "height": 240,
       "width": 600
      }
     },
     "output_type": "display_data"
    }
   ],
   "source": [
    "# We can find the distribution function for the graph. We show here the PDF and CDF\n",
    "# The functions are smart, and the results are *not* recomputed unless\n",
    "# the graph changes. \n",
    "time <- seq(0,2,by=0.01)\n",
    "pdf <- dph(time, graph)\n",
    "cdf <- pph(time, graph)\n",
    "cat(\"PDF and CDF of distribution. Observe the long tails!\\n\")\n",
    "options(repr.plot.width=10, repr.plot.height=4)\n",
    "par(mfrow=c(1,2)) \n",
    "plot(time, pdf)\n",
    "title(\"Probability density function\")\n",
    "plot(time, cdf)\n",
    "title(\"Cumulative density function\")"
   ]
  },
  {
   "cell_type": "markdown",
   "metadata": {},
   "source": [
    "## Rewards"
   ]
  },
  {
   "cell_type": "code",
   "execution_count": 7,
   "metadata": {},
   "outputs": [
    {
     "name": "stdout",
     "output_type": "stream",
     "text": [
      "\n",
      "Expectation: 0.09439 \n",
      "Variance:  0.04635 \n",
      "First three moments: 0.09439 0.05526 0.05233 \n"
     ]
    }
   ],
   "source": [
    "# We can add rewards which are based on the number of rabbits on the second island.\n",
    "# The phase-type distribution is now the total accumulated time that any rabbits spends on the\n",
    "# right island prior to them all being flooded\n",
    "rewards <- states(graph)[,2]\n",
    "# Alternative: rewards <- sapply(1:vertices_length(graph), function(i){vertex_at(graph, i)$state[2]})\n",
    "\n",
    "# Using rewards to the moment functions etc. is much faster than actually\n",
    "# changing the graph\n",
    "cat(paste(\n",
    "    \"\\nExpectation:\", round(expectation(graph, rewards),5),\n",
    "    \"\\nVariance: \", round(variance(graph, rewards),5),\n",
    "    \"\\nFirst three moments:\", paste(round(moments(graph,3, rewards),5), collapse=\" \"), \"\\n\"))"
   ]
  },
  {
   "cell_type": "code",
   "execution_count": 8,
   "metadata": {},
   "outputs": [
    {
     "name": "stdout",
     "output_type": "stream",
     "text": [
      "\n",
      "Expectation: 0.09439 \n",
      "Variance:  0.04635 \n",
      "First three moments: 0.09439 0.05526 0.05233 \n",
      "Defect:  0.66667 \n",
      "PDF and CDF of distribution. Notice how we have a *defect*\n",
      "i.e. a probability of obtaining *no* rewards\n",
      "The *defect* is plotted as a cross in the PDF. Remember to always consider this defect!\n"
     ]
    },
    {
     "data": {
      "image/png": "[encoded data removed]",
      "text/plain": [
       "Plot with title “Cumulative density function”"
      ]
     },
     "metadata": {
      "image/png": {
       "height": 240,
       "width": 600
      }
     },
     "output_type": "display_data"
    }
   ],
   "source": [
    "# Using rewards to the moment functions etc. is much faster than actually\n",
    "# changing the graph, but sometimes we might want to be interested in reward transforming\n",
    "# the phase-type distribution, giving us the full distribution of accumulated rewards.\n",
    "# For example if we want the pdf/cdf\n",
    "right_graph <- reward_transform(graph, states(graph)[,2])\n",
    "cat(paste(\n",
    "    \"\\nExpectation:\", round(expectation(right_graph),5),\n",
    "    \"\\nVariance: \", round(variance(right_graph),5),\n",
    "    \"\\nFirst three moments:\", paste(round(moments(right_graph,3),5), collapse=\" \"),\n",
    "    \"\\nDefect: \", round(defect(right_graph),5), \"\\n\"))\n",
    "\n",
    "# We can find the distribution function for the the total accumulate\n",
    "# time spent by any rabbit on an island. We show here the PDF and CDF\n",
    "accumulated_rewards <- seq(0,2,by=0.01)\n",
    "pdf <- dph(accumulated_rewards, right_graph)\n",
    "cdf <- pph(accumulated_rewards, right_graph)\n",
    "cat(\"PDF and CDF of distribution. Notice how we have a *defect*\\ni.e. a probability of obtaining *no* rewards\\n\")\n",
    "cat(\"The *defect* is plotted as a cross in the PDF. Remember to always consider this defect!\\n\")\n",
    "options(repr.plot.width=10, repr.plot.height=4)\n",
    "par(mfrow=c(1,2)) \n",
    "plot(accumulated_rewards, pdf)\n",
    "points(0,defect(right_graph),pch=4)\n",
    "title(\"Probability density function\")\n",
    "plot(accumulated_rewards, cdf,ylim=c(0,1))\n",
    "title(\"Cumulative density function\")\n"
   ]
  },
  {
   "cell_type": "code",
   "execution_count": 9,
   "metadata": {},
   "outputs": [
    {
     "name": "stdout",
     "output_type": "stream",
     "text": [
      "The stopping probability at times 0, 0.2, 0.4, ..., 1.0:"
     ]
    },
    {
     "data": {
      "text/html": [
       "<table class=\"dataframe\">\n",
       "<caption>A matrix: 6 × 7 of type dbl</caption>\n",
       "<tbody>\n",
       "\t<tr><th scope=row>stop.1</th><td>0</td><td>1.00000000</td><td>0.00000000</td><td>0</td><td>0.000000000</td><td>0.00000000</td><td>0.00000000</td></tr>\n",
       "\t<tr><th scope=row>stop.2</th><td>0</td><td>0.55615316</td><td>0.07040542</td><td>0</td><td>0.007095726</td><td>0.01634811</td><td>0.03374891</td></tr>\n",
       "\t<tr><th scope=row>stop.3</th><td>0</td><td>0.31431361</td><td>0.05442623</td><td>0</td><td>0.010549137</td><td>0.02839463</td><td>0.06027159</td></tr>\n",
       "\t<tr><th scope=row>stop.4</th><td>0</td><td>0.17871327</td><td>0.03421840</td><td>0</td><td>0.009222178</td><td>0.02916357</td><td>0.06334177</td></tr>\n",
       "\t<tr><th scope=row>stop.5</th><td>0</td><td>0.10186655</td><td>0.02032847</td><td>0</td><td>0.006629385</td><td>0.02462984</td><td>0.05448747</td></tr>\n",
       "\t<tr><th scope=row>stop.6</th><td>0</td><td>0.05829086</td><td>0.01187000</td><td>0</td><td>0.004346414</td><td>0.01888474</td><td>0.04238625</td></tr>\n",
       "</tbody>\n",
       "</table>\n"
      ],
      "text/latex": [
       "A matrix: 6 × 7 of type dbl\n",
       "\\begin{tabular}{r|lllllll}\n",
       "\tstop.1 & 0 & 1.00000000 & 0.00000000 & 0 & 0.000000000 & 0.00000000 & 0.00000000\\\\\n",
       "\tstop.2 & 0 & 0.55615316 & 0.07040542 & 0 & 0.007095726 & 0.01634811 & 0.03374891\\\\\n",
       "\tstop.3 & 0 & 0.31431361 & 0.05442623 & 0 & 0.010549137 & 0.02839463 & 0.06027159\\\\\n",
       "\tstop.4 & 0 & 0.17871327 & 0.03421840 & 0 & 0.009222178 & 0.02916357 & 0.06334177\\\\\n",
       "\tstop.5 & 0 & 0.10186655 & 0.02032847 & 0 & 0.006629385 & 0.02462984 & 0.05448747\\\\\n",
       "\tstop.6 & 0 & 0.05829086 & 0.01187000 & 0 & 0.004346414 & 0.01888474 & 0.04238625\\\\\n",
       "\\end{tabular}\n"
      ],
      "text/markdown": [
       "\n",
       "A matrix: 6 × 7 of type dbl\n",
       "\n",
       "| stop.1 | 0 | 1.00000000 | 0.00000000 | 0 | 0.000000000 | 0.00000000 | 0.00000000 |\n",
       "| stop.2 | 0 | 0.55615316 | 0.07040542 | 0 | 0.007095726 | 0.01634811 | 0.03374891 |\n",
       "| stop.3 | 0 | 0.31431361 | 0.05442623 | 0 | 0.010549137 | 0.02839463 | 0.06027159 |\n",
       "| stop.4 | 0 | 0.17871327 | 0.03421840 | 0 | 0.009222178 | 0.02916357 | 0.06334177 |\n",
       "| stop.5 | 0 | 0.10186655 | 0.02032847 | 0 | 0.006629385 | 0.02462984 | 0.05448747 |\n",
       "| stop.6 | 0 | 0.05829086 | 0.01187000 | 0 | 0.004346414 | 0.01888474 | 0.04238625 |\n",
       "\n"
      ],
      "text/plain": [
       "       [,1] [,2]       [,3]       [,4] [,5]        [,6]       [,7]      \n",
       "stop.1 0    1.00000000 0.00000000 0    0.000000000 0.00000000 0.00000000\n",
       "stop.2 0    0.55615316 0.07040542 0    0.007095726 0.01634811 0.03374891\n",
       "stop.3 0    0.31431361 0.05442623 0    0.010549137 0.02839463 0.06027159\n",
       "stop.4 0    0.17871327 0.03421840 0    0.009222178 0.02916357 0.06334177\n",
       "stop.5 0    0.10186655 0.02032847 0    0.006629385 0.02462984 0.05448747\n",
       "stop.6 0    0.05829086 0.01187000 0    0.004346414 0.01888474 0.04238625"
      ]
     },
     "metadata": {},
     "output_type": "display_data"
    },
    {
     "name": "stdout",
     "output_type": "stream",
     "text": [
      "Total time where there was a rabbit on the right island, before time t=0.5:\n",
      "\t 0.0405323179604757 \n"
     ]
    },
    {
     "data": {
      "image/png": "[encoded data removed]",
      "text/plain": [
       "Plot with title “Expected number of rabbits at certain times”"
      ]
     },
     "metadata": {
      "image/png": {
       "height": 240,
       "width": 600
      }
     },
     "output_type": "display_data"
    }
   ],
   "source": [
    "# There are also utility methods to get the stop probability\n",
    "# i.e. at a certain time, what is the probability of standing\n",
    "# in each vertex. We can also get the accumulated visiting time\n",
    "cat(\"The stopping probability at times 0, 0.2, 0.4, ..., 1.0:\")\n",
    "t(data.frame(stop=sapply(seq(0,1,by=0.2),\n",
    "                   function (i) {stop_probability(graph, i)})))\n",
    "\n",
    "# Can can use this to e.g. find the expected number of rabbits left at a time\n",
    "times <- seq(0,2,by=0.05)\n",
    "expected_rabbits_left <- sapply(times, function (i) {sum(stop_probability(graph, i)*rowSums(states(graph)))})\n",
    "\n",
    "options(repr.plot.width=10, repr.plot.height=4)\n",
    "par(mfrow=c(1,2)) \n",
    "plot(times, expected_rabbits_left)\n",
    "title(\"Expected number of rabbits at certain times\")\n",
    "\n",
    "# We can e.g. find the accumulated time where there was at least one rabbit on the right island\n",
    "rewards <- as.integer(states(graph)[,2]>0)\n",
    "cat(paste(\"Total time where there was a rabbit on the right island, before time t=0.5:\\n\\t\",\n",
    "          sum(accumulated_visiting_time(graph, time=0.5) * rewards),\"\\n\"))"
   ]
  },
  {
   "cell_type": "markdown",
   "metadata": {},
   "source": [
    "# Random sampling"
   ]
  },
  {
   "cell_type": "code",
   "execution_count": 10,
   "metadata": {},
   "outputs": [
    {
     "name": "stdout",
     "output_type": "stream",
     "text": [
      "Sampling 2nd moment: 0.4774903 \n",
      "Graph algorithm 2nd moment: 0.4802979 \n",
      "Sampling 2nd moment (reward): 0.0554719 \n",
      "Graph algorithm 2nd moment (reward): 0.05525692"
     ]
    }
   ],
   "source": [
    "# The library includes functions to do random sampling.\n",
    "# These are useful to also validate the computations\n",
    "sampling_2nd_moment <- sum(rph(1000000, graph)^2)/1000000\n",
    "cat(\"Sampling 2nd moment:\" ,sampling_2nd_moment,\n",
    "    \"\\nGraph algorithm 2nd moment:\", moments(graph,2)[2],\"\\n\")\n",
    "\n",
    "# The sampling also allows rewards\n",
    "sampling_2nd_moment <- sum(rph(1000000, graph,states(graph)[,2])^2)/1000000\n",
    "cat(\"Sampling 2nd moment (reward):\" ,sampling_2nd_moment,\n",
    "    \"\\nGraph algorithm 2nd moment (reward):\", moments(graph,2,states(graph)[,2])[2])"
   ]
  },
  {
   "cell_type": "markdown",
   "metadata": {},
   "source": [
    "## Discrete phase-type distributions"
   ]
  },
  {
   "cell_type": "code",
   "execution_count": 11,
   "metadata": {},
   "outputs": [
    {
     "name": "stdout",
     "output_type": "stream",
     "text": [
      "This is the discrete state space as a sub-transition matrix:"
     ]
    },
    {
     "data": {
      "text/html": [
       "<table class=\"dataframe\">\n",
       "<caption>A matrix: 10 × 10 of type dbl</caption>\n",
       "<tbody>\n",
       "\t<tr><td>0.0000</td><td>0.00000000</td><td>0.00000000</td><td>0.000000e+00</td><td>0.0000000</td><td>1.0000000</td><td>0.00000000</td><td>0.00000000</td><td>0.0000000</td><td>0.0000000</td></tr>\n",
       "\t<tr><td>0.0000</td><td>0.00000000</td><td>0.00000000</td><td>0.000000e+00</td><td>1.0000000</td><td>0.0000000</td><td>0.00000000</td><td>0.00000000</td><td>0.0000000</td><td>0.0000000</td></tr>\n",
       "\t<tr><td>0.0000</td><td>0.00000000</td><td>0.00000000</td><td>1.000000e+00</td><td>0.0000000</td><td>0.0000000</td><td>0.00000000</td><td>0.00000000</td><td>0.0000000</td><td>0.0000000</td></tr>\n",
       "\t<tr><td>0.0000</td><td>0.00000000</td><td>0.03846154</td><td>1.110223e-16</td><td>0.1923077</td><td>0.0000000</td><td>0.00000000</td><td>0.00000000</td><td>0.0000000</td><td>0.0000000</td></tr>\n",
       "\t<tr><td>0.0000</td><td>0.02439024</td><td>0.00000000</td><td>1.219512e-01</td><td>0.0000000</td><td>0.1219512</td><td>0.00000000</td><td>0.00000000</td><td>0.4878049</td><td>0.2439024</td></tr>\n",
       "\t<tr><td>0.0625</td><td>0.00000000</td><td>0.00000000</td><td>0.000000e+00</td><td>0.3125000</td><td>0.0000000</td><td>0.00000000</td><td>0.00000000</td><td>0.0000000</td><td>0.0000000</td></tr>\n",
       "\t<tr><td>0.0000</td><td>0.00000000</td><td>0.00000000</td><td>0.000000e+00</td><td>0.0000000</td><td>0.0000000</td><td>0.00000000</td><td>0.00000000</td><td>0.0000000</td><td>1.0000000</td></tr>\n",
       "\t<tr><td>0.0000</td><td>0.00000000</td><td>0.00000000</td><td>0.000000e+00</td><td>0.0000000</td><td>0.0000000</td><td>0.00000000</td><td>0.00000000</td><td>1.0000000</td><td>0.0000000</td></tr>\n",
       "\t<tr><td>0.0000</td><td>0.00000000</td><td>0.00000000</td><td>0.000000e+00</td><td>0.0000000</td><td>0.0000000</td><td>0.00000000</td><td>0.03225806</td><td>0.0000000</td><td>0.3225806</td></tr>\n",
       "\t<tr><td>0.0000</td><td>0.00000000</td><td>0.00000000</td><td>0.000000e+00</td><td>0.0000000</td><td>0.0000000</td><td>0.01960784</td><td>0.00000000</td><td>0.1960784</td><td>0.0000000</td></tr>\n",
       "</tbody>\n",
       "</table>\n"
      ],
      "text/latex": [
       "A matrix: 10 × 10 of type dbl\n",
       "\\begin{tabular}{llllllllll}\n",
       "\t 0.0000 & 0.00000000 & 0.00000000 & 0.000000e+00 & 0.0000000 & 1.0000000 & 0.00000000 & 0.00000000 & 0.0000000 & 0.0000000\\\\\n",
       "\t 0.0000 & 0.00000000 & 0.00000000 & 0.000000e+00 & 1.0000000 & 0.0000000 & 0.00000000 & 0.00000000 & 0.0000000 & 0.0000000\\\\\n",
       "\t 0.0000 & 0.00000000 & 0.00000000 & 1.000000e+00 & 0.0000000 & 0.0000000 & 0.00000000 & 0.00000000 & 0.0000000 & 0.0000000\\\\\n",
       "\t 0.0000 & 0.00000000 & 0.03846154 & 1.110223e-16 & 0.1923077 & 0.0000000 & 0.00000000 & 0.00000000 & 0.0000000 & 0.0000000\\\\\n",
       "\t 0.0000 & 0.02439024 & 0.00000000 & 1.219512e-01 & 0.0000000 & 0.1219512 & 0.00000000 & 0.00000000 & 0.4878049 & 0.2439024\\\\\n",
       "\t 0.0625 & 0.00000000 & 0.00000000 & 0.000000e+00 & 0.3125000 & 0.0000000 & 0.00000000 & 0.00000000 & 0.0000000 & 0.0000000\\\\\n",
       "\t 0.0000 & 0.00000000 & 0.00000000 & 0.000000e+00 & 0.0000000 & 0.0000000 & 0.00000000 & 0.00000000 & 0.0000000 & 1.0000000\\\\\n",
       "\t 0.0000 & 0.00000000 & 0.00000000 & 0.000000e+00 & 0.0000000 & 0.0000000 & 0.00000000 & 0.00000000 & 1.0000000 & 0.0000000\\\\\n",
       "\t 0.0000 & 0.00000000 & 0.00000000 & 0.000000e+00 & 0.0000000 & 0.0000000 & 0.00000000 & 0.03225806 & 0.0000000 & 0.3225806\\\\\n",
       "\t 0.0000 & 0.00000000 & 0.00000000 & 0.000000e+00 & 0.0000000 & 0.0000000 & 0.01960784 & 0.00000000 & 0.1960784 & 0.0000000\\\\\n",
       "\\end{tabular}\n"
      ],
      "text/markdown": [
       "\n",
       "A matrix: 10 × 10 of type dbl\n",
       "\n",
       "| 0.0000 | 0.00000000 | 0.00000000 | 0.000000e+00 | 0.0000000 | 1.0000000 | 0.00000000 | 0.00000000 | 0.0000000 | 0.0000000 |\n",
       "| 0.0000 | 0.00000000 | 0.00000000 | 0.000000e+00 | 1.0000000 | 0.0000000 | 0.00000000 | 0.00000000 | 0.0000000 | 0.0000000 |\n",
       "| 0.0000 | 0.00000000 | 0.00000000 | 1.000000e+00 | 0.0000000 | 0.0000000 | 0.00000000 | 0.00000000 | 0.0000000 | 0.0000000 |\n",
       "| 0.0000 | 0.00000000 | 0.03846154 | 1.110223e-16 | 0.1923077 | 0.0000000 | 0.00000000 | 0.00000000 | 0.0000000 | 0.0000000 |\n",
       "| 0.0000 | 0.02439024 | 0.00000000 | 1.219512e-01 | 0.0000000 | 0.1219512 | 0.00000000 | 0.00000000 | 0.4878049 | 0.2439024 |\n",
       "| 0.0625 | 0.00000000 | 0.00000000 | 0.000000e+00 | 0.3125000 | 0.0000000 | 0.00000000 | 0.00000000 | 0.0000000 | 0.0000000 |\n",
       "| 0.0000 | 0.00000000 | 0.00000000 | 0.000000e+00 | 0.0000000 | 0.0000000 | 0.00000000 | 0.00000000 | 0.0000000 | 1.0000000 |\n",
       "| 0.0000 | 0.00000000 | 0.00000000 | 0.000000e+00 | 0.0000000 | 0.0000000 | 0.00000000 | 0.00000000 | 1.0000000 | 0.0000000 |\n",
       "| 0.0000 | 0.00000000 | 0.00000000 | 0.000000e+00 | 0.0000000 | 0.0000000 | 0.00000000 | 0.03225806 | 0.0000000 | 0.3225806 |\n",
       "| 0.0000 | 0.00000000 | 0.00000000 | 0.000000e+00 | 0.0000000 | 0.0000000 | 0.01960784 | 0.00000000 | 0.1960784 | 0.0000000 |\n",
       "\n"
      ],
      "text/plain": [
       "      [,1]   [,2]       [,3]       [,4]         [,5]      [,6]      [,7]      \n",
       " [1,] 0.0000 0.00000000 0.00000000 0.000000e+00 0.0000000 1.0000000 0.00000000\n",
       " [2,] 0.0000 0.00000000 0.00000000 0.000000e+00 1.0000000 0.0000000 0.00000000\n",
       " [3,] 0.0000 0.00000000 0.00000000 1.000000e+00 0.0000000 0.0000000 0.00000000\n",
       " [4,] 0.0000 0.00000000 0.03846154 1.110223e-16 0.1923077 0.0000000 0.00000000\n",
       " [5,] 0.0000 0.02439024 0.00000000 1.219512e-01 0.0000000 0.1219512 0.00000000\n",
       " [6,] 0.0625 0.00000000 0.00000000 0.000000e+00 0.3125000 0.0000000 0.00000000\n",
       " [7,] 0.0000 0.00000000 0.00000000 0.000000e+00 0.0000000 0.0000000 0.00000000\n",
       " [8,] 0.0000 0.00000000 0.00000000 0.000000e+00 0.0000000 0.0000000 0.00000000\n",
       " [9,] 0.0000 0.00000000 0.00000000 0.000000e+00 0.0000000 0.0000000 0.00000000\n",
       "[10,] 0.0000 0.00000000 0.00000000 0.000000e+00 0.0000000 0.0000000 0.01960784\n",
       "      [,8]       [,9]      [,10]    \n",
       " [1,] 0.00000000 0.0000000 0.0000000\n",
       " [2,] 0.00000000 0.0000000 0.0000000\n",
       " [3,] 0.00000000 0.0000000 0.0000000\n",
       " [4,] 0.00000000 0.0000000 0.0000000\n",
       " [5,] 0.00000000 0.4878049 0.2439024\n",
       " [6,] 0.00000000 0.0000000 0.0000000\n",
       " [7,] 0.00000000 0.0000000 1.0000000\n",
       " [8,] 0.00000000 1.0000000 0.0000000\n",
       " [9,] 0.03225806 0.0000000 0.3225806\n",
       "[10,] 0.00000000 0.1960784 0.0000000"
      ]
     },
     "metadata": {},
     "output_type": "display_data"
    }
   ],
   "source": [
    "# We can also work with discrete phase-type distributions. This is\n",
    "# the number of jumps in a Markov Chain before absorption\n",
    "# We will model that any rabbit can find a carrot at each time with rate 0.1\n",
    "# and see how many carrots the rabbits will have found\n",
    "# We could of course just make a new state-space creation function, but we can\n",
    "# also manipulate existing\n",
    "carrot_graph <- clone_graph(graph)\n",
    "\n",
    "vlength <- vertices_length(carrot_graph)\n",
    "carrot_vertices <- rep(F, vlength*2)\n",
    "\n",
    "for (i in 1:vlength) {\n",
    "    vertex <- vertex_at(carrot_graph,i)\n",
    "    rabbits <- sum(vertex$state)\n",
    "    \n",
    "    if (rabbits > 0) {\n",
    "        obtained_carrot_vertex <- create_vertex(carrot_graph, 0)\n",
    "        # Go directly back to the state we came from\n",
    "        add_edge(obtained_carrot_vertex, vertex, 1)\n",
    "        # Rate of finding carrot\n",
    "        add_edge(vertex, obtained_carrot_vertex, rabbits * 0.1)\n",
    "        carrot_vertices[obtained_carrot_vertex$index] <- T\n",
    "    }    \n",
    "}\n",
    "\n",
    "carrot_vertices <- carrot_vertices[1:vertices_length(carrot_graph)]\n",
    "\n",
    "# We now want to make the graph discrete. We do this by 'normalizing' the edges\n",
    "# This is imply scaling the vertices such that the total out-going rate is 1\n",
    "# As it is now the probability of transitions\n",
    "weights_were_multiplied_with <- normalize_graph(carrot_graph)\n",
    "\n",
    "cat(\"This is the discrete state space as a sub-transition matrix:\")\n",
    "graph_as_dph_matrix(carrot_graph)$STM"
   ]
  },
  {
   "cell_type": "code",
   "execution_count": 12,
   "metadata": {},
   "outputs": [
    {
     "name": "stdout",
     "output_type": "stream",
     "text": [
      "DPH expectation: 0.0905612244897959\n",
      "Scaled continuous expectation: 0.0905612244897959\n",
      "DPH variance:  0.0972314270095794\n",
      "Verified by sampling:  0.097206853744"
     ]
    }
   ],
   "source": [
    "# We now want to find the expected number of eaten carrots\n",
    "# We set the reward such that the carrot vertex has a reward of '1'\n",
    "rewards <- as.integer(carrot_vertices)\n",
    "\n",
    "cat(paste(\"DPH expectation:\", dph_expectation(carrot_graph, rewards)))\n",
    "\n",
    "# We can verify that the number of carrots correspond to scaling the continuous graph\n",
    "cat(paste(\"\\nScaled continuous expectation:\", expectation(graph, rowSums(states(graph))) * 0.1))\n",
    "\n",
    "# Of course we cannot do this for other moments!\n",
    "cat(paste(\"\\nDPH variance: \", dph_variance(carrot_graph, rewards)))\n",
    "samples <- rdph(1000000, carrot_graph, rewards)\n",
    "\n",
    "cat(paste(\"\\nVerified by sampling: \", sum(samples^2)/1000000-((sum(samples))/1000000)^2))"
   ]
  },
  {
   "cell_type": "code",
   "execution_count": 13,
   "metadata": {},
   "outputs": [
    {
     "data": {
      "image/png": "[encoded data removed]",
      "text/plain": [
       "Plot with title “Cumulative density function”"
      ]
     },
     "metadata": {
      "image/png": {
       "height": 240,
       "width": 600
      }
     },
     "output_type": "display_data"
    }
   ],
   "source": [
    "# We can find the distribution function for the the total number of carrots found\n",
    "carrots <- seq(0, 10)\n",
    "# Notice that with this reward transformation the graph is no longer sparse, as all paths through\n",
    "# the graph are represented!!\n",
    "found_carrots_graph <- dph_reward_transform(carrot_graph, rewards)\n",
    "pmf <- ddph(carrots, found_carrots_graph)\n",
    "cdf <- pdph(carrots, found_carrots_graph)\n",
    "options(repr.plot.width=10, repr.plot.height=4)\n",
    "par(mfrow=c(1,2)) \n",
    "plot(carrots, pmf)\n",
    "title(\"Probability mass function\")\n",
    "plot(carrots, cdf,ylim=c(0,1))\n",
    "title(\"Cumulative density function\")\n"
   ]
  },
  {
   "cell_type": "markdown",
   "metadata": {},
   "source": [
    "# Multivariate phase-type distributions"
   ]
  },
  {
   "cell_type": "code",
   "execution_count": 14,
   "metadata": {},
   "outputs": [
    {
     "name": "stdout",
     "output_type": "stream",
     "text": [
      "Covariance: 0.0300037744689713\n",
      "Sampled covariance: 0.0294514983851195"
     ]
    }
   ],
   "source": [
    "# Instead of a univariate reward, we can have the distribution earn a \n",
    "# *vector* of rewards for each time unit spent at a vertex.\n",
    "# We will continue with the rabbit example. We will now show the relationship\n",
    "# between total time spent by any rabbit on either of the two islands.\n",
    "cat(paste(\"Covariance:\", covariance(graph, states(graph)[,1], states(graph)[,2])))\n",
    "simulations <- rmph(100000, graph, states(graph))\n",
    "simulated_cov <- sum(simulations[1,]*simulations[2,])/100000 -\n",
    "                    sum(simulations[1,])/100000*sum(simulations[2,])/100000\n",
    "cat(paste(\"\\nSampled covariance:\", simulated_cov))"
   ]
  },
  {
   "cell_type": "code",
   "execution_count": 15,
   "metadata": {},
   "outputs": [
    {
     "name": "stdout",
     "output_type": "stream",
     "text": [
      "Covariance: 0.000300037744689713\n",
      "Sampled covariance: 0.000279220885"
     ]
    }
   ],
   "source": [
    "# The api also supports multivariate *discrete* phase-type distributions\n",
    "# We show the covariance between carrots found on either island\n",
    "mdph_carrot_graph <- clone_graph(graph)\n",
    "\n",
    "vlength <- vertices_length(mdph_carrot_graph)\n",
    "carrot_vertices_left <- rep(F, vlength*2)\n",
    "carrot_vertices_right <- rep(F, vlength*2)\n",
    "\n",
    "\n",
    "for (i in 1:vlength) {\n",
    "    vertex <- vertex_at(mdph_carrot_graph,i)\n",
    "    rabbits <- vertex$state\n",
    "    \n",
    "    if (rabbits[1] > 0) {\n",
    "        obtained_carrot_vertex <- create_vertex(mdph_carrot_graph, 0)\n",
    "        # Go directly back to the state we came from\n",
    "        add_edge(obtained_carrot_vertex, vertex, 1)\n",
    "        # Rate of finding carrot\n",
    "        add_edge(vertex, obtained_carrot_vertex, rabbits[1] * 0.1)\n",
    "        carrot_vertices_left[obtained_carrot_vertex$index] <- T\n",
    "    }    \n",
    "    \n",
    "    \n",
    "    if (rabbits[2] > 0) {\n",
    "        obtained_carrot_vertex <- create_vertex(mdph_carrot_graph, 0)\n",
    "        # Go directly back to the state we came from\n",
    "        add_edge(obtained_carrot_vertex, vertex, 1)\n",
    "        # Rate of finding carrot\n",
    "        add_edge(vertex, obtained_carrot_vertex, rabbits[2] * 0.1)\n",
    "        carrot_vertices_right[obtained_carrot_vertex$index] <- T\n",
    "    }    \n",
    "}\n",
    "\n",
    "carrot_vertices_left <- carrot_vertices_left[1:vertices_length(mdph_carrot_graph)]\n",
    "carrot_vertices_right <- carrot_vertices_right[1:vertices_length(mdph_carrot_graph)]\n",
    "normalize_graph(mdph_carrot_graph) -> avoid_print\n",
    "rewards <- matrix(as.integer(c(carrot_vertices_left, carrot_vertices_right)), ncol=2)\n",
    "cat(paste(\"Covariance:\", dph_covariance(mdph_carrot_graph, rewards[,1], rewards[,2])))\n",
    "simulations <- rmdph(1000000, mdph_carrot_graph, rewards)\n",
    "simulated_cov <- sum(simulations[1,]*simulations[2,])/1000000 -\n",
    "                    sum(simulations[1,])/1000000*sum(simulations[2,])/1000000\n",
    "cat(paste(\"\\nSampled covariance:\", simulated_cov))"
   ]
  },
  {
   "cell_type": "markdown",
   "metadata": {},
   "source": [
    "## Parameterized edges"
   ]
  },
  {
   "cell_type": "code",
   "execution_count": 16,
   "metadata": {},
   "outputs": [],
   "source": [
    "# We can *parameterize* the edges to easily update the weights of the edge\n",
    "# We do this by assigning a *state* to the *edge*.\n",
    "# We will now also say that the rate of rabbits jumping is proportional to the\n",
    "# number of rabbits on the island.\n",
    "# Our state is [rabbits able to jump, left flooding, right flooding]\n",
    "\n",
    "construct_rabbit_graph_params <- function(number_of_rabbits) {\n",
    "    # We represent the vector as two integers, the number of rabbits on the left and right island\n",
    "    state_vector_length <- 2\n",
    "    graph <- create_graph(state_vector_length)\n",
    "    initial_state <- c(number_of_rabbits, 0)\n",
    "    # The initial state is the only starting state, with 100% starting probability\n",
    "    add_edge(\n",
    "      starting_vertex(graph),\n",
    "      find_or_create_vertex(graph, initial_state),\n",
    "      1\n",
    "    )\n",
    "    index <- 2\n",
    "    # Iterate over all unvisited vertices\n",
    "    while (index <= vertices_length(graph)) {\n",
    "      vertex <- vertex_at(graph, index)\n",
    "      state <- vertex$state\n",
    "      if (state[1] > 0) {\n",
    "        # Rabbit jump left to right\n",
    "        child_state <- c(state[1] - 1, state[2] + 1)\n",
    "        add_edge(\n",
    "          vertex,\n",
    "          find_or_create_vertex(graph, child_state),\n",
    "          0,\n",
    "          parameterized_edge_state=c(state[1],0,0)\n",
    "        )\n",
    "        # Left island flooding\n",
    "        child_state <- c(0, state[2])\n",
    "        add_edge(\n",
    "          vertex,\n",
    "          find_or_create_vertex(graph, child_state),\n",
    "          0,\n",
    "          parameterized_edge_state=c(0,1,0)\n",
    "        )\n",
    "      }\n",
    "      if (state[2] > 0) {\n",
    "        # Rabbit jump right to left\n",
    "        child_state <- c(state[1] + 1, state[2] - 1)\n",
    "        add_edge(\n",
    "          vertex,\n",
    "          find_or_create_vertex(graph, child_state),\n",
    "          0, \n",
    "          parameterized_edge_state=c(state[2],0,0)\n",
    "        )\n",
    "        # Right island flooding with rate of 4\n",
    "        child_state <- c(state[1], 0)\n",
    "        add_edge(\n",
    "          vertex,\n",
    "          find_or_create_vertex(graph, child_state),\n",
    "          0,\n",
    "          parameterized_edge_state=c(0,0,1)\n",
    "        )\n",
    "      }\n",
    "      index <- index + 1\n",
    "    }\n",
    "    return(graph)\n",
    "}"
   ]
  },
  {
   "cell_type": "code",
   "execution_count": 17,
   "metadata": {},
   "outputs": [
    {
     "name": "stdout",
     "output_type": "stream",
     "text": [
      "Expectation (1,2,4): 0.508305647840532\n",
      "Expectation (2,2,4): 0.495652173913043\n",
      "Expectation (2,4,4): 0.3\n",
      "Expectation (2,4,18): 0.227096322687365\n",
      "Expectation (8,4,18): 0.177194393695634\n",
      "\n",
      "SIM at 1,2,4:\n",
      "     [,1] [,2] [,3] [,4] [,5]\n",
      "[1,]   -6    2    0    0    0\n",
      "[2,]    1   -8    1    4    2\n",
      "[3,]    0    2   -4    0    0\n",
      "[4,]    0    0    0   -3    1\n",
      "[5,]    0    0    0    1   -5\n",
      "\n",
      "\n",
      "SIM at 8,4,18:\n",
      "     [,1] [,2] [,3] [,4] [,5]\n",
      "[1,]  -34   16    0    0    0\n",
      "[2,]    8  -38    8   18    4\n",
      "[3,]    0   16  -20    0    0\n",
      "[4,]    0    0    0  -12    8\n",
      "[5,]    0    0    0    8  -26\n"
     ]
    }
   ],
   "source": [
    "# The parameterized edges have what ever weight is assigned to them,\n",
    "# and the state does not by itself mean anything.\n",
    "param_graph <- construct_rabbit_graph_params(2)\n",
    "\n",
    "# If we let the edge have a state, this gives us an easy way of changing the weights\n",
    "# based on some model parameters. In this case, it is the rate of jumping\n",
    "# left rate of flooding and right rate of flooding.\n",
    "# The update simply takes the inner product of the state vector and\n",
    "# the model parameters, e.g. if the state is x1, x2 and the parameters are p1, p2, then\n",
    "# the weight of the edge becomed x1*p1+x2*p2\n",
    "graph_update_weights_parameterized(param_graph, c(1, 2, 4))\n",
    "cat(paste(\"Expectation (1,2,4):\", expectation(param_graph)))\n",
    "graph_update_weights_parameterized(param_graph, c(2, 2, 4))\n",
    "cat(paste(\"\\nExpectation (2,2,4):\", expectation(param_graph)))\n",
    "graph_update_weights_parameterized(param_graph, c(2, 4, 4))\n",
    "cat(paste(\"\\nExpectation (2,4,4):\", expectation(param_graph)))\n",
    "graph_update_weights_parameterized(param_graph, c(2, 4, 18))\n",
    "cat(paste(\"\\nExpectation (2,4,18):\", expectation(param_graph)))\n",
    "graph_update_weights_parameterized(param_graph, c(8, 4, 18))\n",
    "cat(paste(\"\\nExpectation (8,4,18):\", expectation(param_graph)))\n",
    "\n",
    "# Note that the moment graph *has* to be recalculated after updating weights\n",
    "\n",
    "cat(\"\\n\\nSIM at 1,2,4:\\n\")\n",
    "graph_update_weights_parameterized(param_graph, c(1, 2, 4))\n",
    "print(graph_as_matrix(param_graph)$SIM)\n",
    "cat(\"\\n\\nSIM at 8,4,18:\\n\")\n",
    "graph_update_weights_parameterized(param_graph, c(8, 4, 18))\n",
    "print(graph_as_matrix(param_graph)$SIM)"
   ]
  },
  {
   "cell_type": "markdown",
   "metadata": {},
   "source": [
    "## Time inhomogeneity"
   ]
  },
  {
   "cell_type": "code",
   "execution_count": 18,
   "metadata": {},
   "outputs": [
    {
     "name": "stdout",
     "output_type": "stream",
     "text": [
      "Integrating over accumulated visiting time: 0.503826530601454\n",
      "The first moment (expectation): 0.503826530612245"
     ]
    },
    {
     "data": {
      "image/png": "[encoded data removed]",
      "text/plain": [
       "Plot with title “Time until all rabbits are dead. Flooding increases linearly after 1.5 time units”"
      ]
     },
     "metadata": {
      "image/png": {
       "height": 240,
       "width": 600
      }
     },
     "output_type": "display_data"
    }
   ],
   "source": [
    "# If the weights change over time - or new edges are added!\n",
    "# Then the distribution is time inhomogeneous. The api also\n",
    "# supports such distributions, but in limited manner.\n",
    "\n",
    "# Like the pph, dph, etc. functions, it is a (very good) approximation based\n",
    "# on very small steps. If the rates change dramatically, set the granularity\n",
    "# as an argument to the functions!! E.g. set it to a high enough value.\n",
    "\n",
    "# If we pick a time far into the future, we can integrate under the pdf to find the expectation!\n",
    "cat(paste(\"Integrating over accumulated visiting time:\",sum(accumulated_visiting_time(graph, 10))))\n",
    "cat(paste(\"\\nThe first moment (expectation):\", expectation(graph)))\n",
    "\n",
    "# Say at a certain point in time, the flooding starts!\n",
    "# In the beginning, there is *no* flooding\n",
    "graph_update_weights_parameterized(param_graph, c(1, 0, 0))\n",
    "\n",
    "# We can build a context to step over the distribution.\n",
    "# Weights can be freely changed and edges added in such a context\n",
    "ctx = distribution_context(param_graph)\n",
    "cdfs <- c()\n",
    "times <- c()\n",
    "\n",
    "while (distribution_context_state(ctx)$time < 1.5) {\n",
    "    cdfs <- c(cdfs, distribution_context_state(ctx)$cdf)\n",
    "    times <- c(times, distribution_context_state(ctx)$time)\n",
    "    distribution_context_step(ctx)\n",
    "}\n",
    "\n",
    "# At time 1.5, the flooding starts! It increases by every time step!\n",
    "graph_update_weights_parameterized(param_graph, c(1, 0, 0))\n",
    "\n",
    "while (distribution_context_state(ctx)$cdf < 0.999) {\n",
    "    cdfs <- c(cdfs, distribution_context_state(ctx)$cdf)\n",
    "    times <- c(times, distribution_context_state(ctx)$time)\n",
    "    graph_update_weights_parameterized(\n",
    "        param_graph, c(1,\n",
    "                       (distribution_context_state(ctx)$time - 1.5), \n",
    "                       2*(distribution_context_state(ctx)$time - 1.5)\n",
    "                      )\n",
    "    )\n",
    "    distribution_context_step(ctx)\n",
    "}\n",
    "\n",
    "plot(times, cdfs)\n",
    "title(\"Time until all rabbits are dead. Flooding increases linearly after 1.5 time units\")\n"
   ]
  },
  {
   "cell_type": "code",
   "execution_count": 19,
   "metadata": {},
   "outputs": [
    {
     "name": "stdout",
     "output_type": "stream",
     "text": [
      "Summing over accumulated visiting time (with reward): 0.0943877550988707\n",
      "The first moment (expectation) (with reward): 0.0943877551020408\n",
      "Expectation (rewarded) when truncating at 0.05 time: 0.00117132349857445\n",
      "Untruncated expectation: 0.0943877551020408\n",
      "Expectation (rewarded) when *starting* at 0.05 time: 0.0932581146642645\n",
      "Subtracting these gives the *same* value: 0.00112964043777626\n",
      "We can increase granularity for better performance: 0.00111383178979534"
     ]
    }
   ],
   "source": [
    "# If we pick a time far into the future, we can integrate under it to find the expectation!\n",
    "# This means that we can scale by a reward, and thereby find the marginal expectation\n",
    "cat(paste(\"Summing over accumulated visiting time (with reward):\",\n",
    "            sum(accumulated_visiting_time(graph, 10)*states(graph)[,2])))\n",
    "cat(paste(\"\\nThe first moment (expectation) (with reward):\", expectation(graph,states(graph)[,2])))\n",
    "\n",
    "# But if the time is *not* far into the future, we get the expectation up to a certain\n",
    "# point in time!\n",
    "\n",
    "cat(paste(\"\\nExpectation (rewarded) when truncating at 0.05 time:\",\n",
    "            sum(accumulated_visiting_time(graph, 0.05)*states(graph)[,2])))\n",
    "cat(paste(\"\\nUntruncated expectation:\", expectation(graph,states(graph)[,2])))\n",
    "\n",
    "cat(paste(\"\\nExpectation (rewarded) when *starting* at 0.05 time:\",\n",
    "            sum(stop_probability(graph, 0.05)*expected_waiting_time(graph, states(graph)[,2]))))\n",
    "\n",
    "cat(paste(\"\\nSubtracting these gives the *same* value:\",\n",
    "            expectation(graph,states(graph)[,2])-\n",
    "           sum(stop_probability(graph, 0.05)*expected_waiting_time(graph, states(graph)[,2]))))\n",
    "\n",
    "cat(paste(\"\\nWe can increase granularity for better performance:\",\n",
    "           sum(accumulated_visiting_time(graph, 0.05, granularity=1000000)*states(graph)[,2])))\n",
    "# However, if there are sudden, single, large changes,\n",
    "# we can also just get the chunked expectation by subtracting"
   ]
  },
  {
   "cell_type": "markdown",
   "metadata": {},
   "source": [
    "## Fast state-space construction through C api"
   ]
  },
  {
   "cell_type": "code",
   "execution_count": 11,
   "metadata": {},
   "outputs": [],
   "source": [
    "# While the R api can create graphs, this is *slow* as the C++ binding layer\n",
    "# through Rcpp is slow when invoking many functions, and since R is a slow,\n",
    "# interpreted language\n",
    "# Clone or download the code, and include these files in the repository!\n",
    "# Make SURE that the version of the downloaded code is the same as the\n",
    "# installed R library!! Otherwise it may crash randomly\n",
    "# The file has comments and is easy to understand, so you should be able\n",
    "# to defined you own cool construction functions\n",
    "\n",
    "Rcpp::sourceCpp(\"./rabbit_construction_c.cpp\")"
   ]
  },
  {
   "cell_type": "code",
   "execution_count": 24,
   "metadata": {},
   "outputs": [
    {
     "name": "stdout",
     "output_type": "stream",
     "text": [
      "See how the graph is identical to the R construction?\n"
     ]
    },
    {
     "data": {
      "text/html": [
       "<table class=\"dataframe\">\n",
       "<caption>A matrix: 5 × 5 of type dbl</caption>\n",
       "<tbody>\n",
       "\t<tr><td>-5</td><td> 1</td><td> 0</td><td> 0</td><td> 0</td></tr>\n",
       "\t<tr><td> 1</td><td>-8</td><td> 1</td><td> 4</td><td> 2</td></tr>\n",
       "\t<tr><td> 0</td><td> 1</td><td>-3</td><td> 0</td><td> 0</td></tr>\n",
       "\t<tr><td> 0</td><td> 0</td><td> 0</td><td>-3</td><td> 1</td></tr>\n",
       "\t<tr><td> 0</td><td> 0</td><td> 0</td><td> 1</td><td>-5</td></tr>\n",
       "</tbody>\n",
       "</table>\n"
      ],
      "text/latex": [
       "A matrix: 5 × 5 of type dbl\n",
       "\\begin{tabular}{lllll}\n",
       "\t -5 &  1 &  0 &  0 &  0\\\\\n",
       "\t  1 & -8 &  1 &  4 &  2\\\\\n",
       "\t  0 &  1 & -3 &  0 &  0\\\\\n",
       "\t  0 &  0 &  0 & -3 &  1\\\\\n",
       "\t  0 &  0 &  0 &  1 & -5\\\\\n",
       "\\end{tabular}\n"
      ],
      "text/markdown": [
       "\n",
       "A matrix: 5 × 5 of type dbl\n",
       "\n",
       "| -5 |  1 |  0 |  0 |  0 |\n",
       "|  1 | -8 |  1 |  4 |  2 |\n",
       "|  0 |  1 | -3 |  0 |  0 |\n",
       "|  0 |  0 |  0 | -3 |  1 |\n",
       "|  0 |  0 |  0 |  1 | -5 |\n",
       "\n"
      ],
      "text/plain": [
       "     [,1] [,2] [,3] [,4] [,5]\n",
       "[1,] -5    1    0    0    0  \n",
       "[2,]  1   -8    1    4    2  \n",
       "[3,]  0    1   -3    0    0  \n",
       "[4,]  0    0    0   -3    1  \n",
       "[5,]  0    0    0    1   -5  "
      ]
     },
     "metadata": {},
     "output_type": "display_data"
    },
    {
     "name": "stdout",
     "output_type": "stream",
     "text": [
      "Vertices: 125752\n",
      "Expectation: 0.536563856879033"
     ]
    }
   ],
   "source": [
    "# The included file (open it for youself and see!) defined a function construct_rabbit_graph\n",
    "graph <- construct_rabbit_graph(2, 2, 4)\n",
    "\n",
    "cat(\"See how the graph is identical to the R construction?\\n\")\n",
    "graph_as_matrix(graph)$SIM\n",
    "\n",
    "# We can very fast build large state spaces!!\n",
    "large <- construct_rabbit_graph(500, 2, 4)\n",
    "cat(paste(\"Vertices:\", vertices_length(large)))\n",
    "\n",
    "# Don't worry about speed when invoking the other api functions\n",
    "# they are not slower as we invoke one C function once and wait\n",
    "# for it to return!\n",
    "cat(paste(\"\\nExpectation:\", expectation(large)))"
   ]
  },
  {
   "cell_type": "markdown",
   "metadata": {},
   "source": [
    "## Numerical accuracy"
   ]
  },
  {
   "cell_type": "code",
   "execution_count": 45,
   "metadata": {},
   "outputs": [
    {
     "data": {
      "text/html": [
       "<table class=\"dataframe\">\n",
       "<caption>A data.frame: 10 × 3</caption>\n",
       "<thead>\n",
       "\t<tr><th scope=col>moment</th><th scope=col>matrix_based</th><th scope=col>ptdalgorithms_moment</th></tr>\n",
       "\t<tr><th scope=col>&lt;int&gt;</th><th scope=col>&lt;dbl&gt;</th><th scope=col>&lt;dbl&gt;</th></tr>\n",
       "</thead>\n",
       "<tbody>\n",
       "\t<tr><td> 1</td><td>2.033952e+00</td><td>2.033952e+00</td></tr>\n",
       "\t<tr><td> 2</td><td>8.281555e+00</td><td>8.281555e+00</td></tr>\n",
       "\t<tr><td> 3</td><td>5.057951e+01</td><td>5.057951e+01</td></tr>\n",
       "\t<tr><td> 4</td><td>4.118851e+02</td><td>4.118851e+02</td></tr>\n",
       "\t<tr><td> 5</td><td>4.192640e+03</td><td>4.192640e+03</td></tr>\n",
       "\t<tr><td> 6</td><td>5.121301e+04</td><td>5.121301e+04</td></tr>\n",
       "\t<tr><td> 7</td><td>7.298269e+05</td><td>7.298269e+05</td></tr>\n",
       "\t<tr><td> 8</td><td>1.188643e+07</td><td>1.188643e+07</td></tr>\n",
       "\t<tr><td> 9</td><td>2.177887e+08</td><td>2.177887e+08</td></tr>\n",
       "\t<tr><td>10</td><td>4.433808e+09</td><td>4.433808e+09</td></tr>\n",
       "</tbody>\n",
       "</table>\n"
      ],
      "text/latex": [
       "A data.frame: 10 × 3\n",
       "\\begin{tabular}{lll}\n",
       " moment & matrix\\_based & ptdalgorithms\\_moment\\\\\n",
       " <int> & <dbl> & <dbl>\\\\\n",
       "\\hline\n",
       "\t  1 & 2.033952e+00 & 2.033952e+00\\\\\n",
       "\t  2 & 8.281555e+00 & 8.281555e+00\\\\\n",
       "\t  3 & 5.057951e+01 & 5.057951e+01\\\\\n",
       "\t  4 & 4.118851e+02 & 4.118851e+02\\\\\n",
       "\t  5 & 4.192640e+03 & 4.192640e+03\\\\\n",
       "\t  6 & 5.121301e+04 & 5.121301e+04\\\\\n",
       "\t  7 & 7.298269e+05 & 7.298269e+05\\\\\n",
       "\t  8 & 1.188643e+07 & 1.188643e+07\\\\\n",
       "\t  9 & 2.177887e+08 & 2.177887e+08\\\\\n",
       "\t 10 & 4.433808e+09 & 4.433808e+09\\\\\n",
       "\\end{tabular}\n"
      ],
      "text/markdown": [
       "\n",
       "A data.frame: 10 × 3\n",
       "\n",
       "| moment &lt;int&gt; | matrix_based &lt;dbl&gt; | ptdalgorithms_moment &lt;dbl&gt; |\n",
       "|---|---|---|\n",
       "|  1 | 2.033952e+00 | 2.033952e+00 |\n",
       "|  2 | 8.281555e+00 | 8.281555e+00 |\n",
       "|  3 | 5.057951e+01 | 5.057951e+01 |\n",
       "|  4 | 4.118851e+02 | 4.118851e+02 |\n",
       "|  5 | 4.192640e+03 | 4.192640e+03 |\n",
       "|  6 | 5.121301e+04 | 5.121301e+04 |\n",
       "|  7 | 7.298269e+05 | 7.298269e+05 |\n",
       "|  8 | 1.188643e+07 | 1.188643e+07 |\n",
       "|  9 | 2.177887e+08 | 2.177887e+08 |\n",
       "| 10 | 4.433808e+09 | 4.433808e+09 |\n",
       "\n"
      ],
      "text/plain": [
       "   moment matrix_based ptdalgorithms_moment\n",
       "1   1     2.033952e+00 2.033952e+00        \n",
       "2   2     8.281555e+00 8.281555e+00        \n",
       "3   3     5.057951e+01 5.057951e+01        \n",
       "4   4     4.118851e+02 4.118851e+02        \n",
       "5   5     4.192640e+03 4.192640e+03        \n",
       "6   6     5.121301e+04 5.121301e+04        \n",
       "7   7     7.298269e+05 7.298269e+05        \n",
       "8   8     1.188643e+07 1.188643e+07        \n",
       "9   9     2.177887e+08 2.177887e+08        \n",
       "10 10     4.433808e+09 4.433808e+09        "
      ]
     },
     "metadata": {},
     "output_type": "display_data"
    }
   ],
   "source": [
    "# To prove that the algorithms are numerically accuracy, we will compare against\n",
    "# a baseline by matrix equations.\n",
    "# We build an 100% dense graph, and compare the results\n",
    "set.seed(1234)\n",
    "VERTICES <- 1000\n",
    "\n",
    "g <- create_graph(0)\n",
    "vertices <- list()\n",
    "for (i in 1:VERTICES) {\n",
    "    vertices[[i]] <- create_vertex(g, 0)\n",
    "}\n",
    "\n",
    "add_edge(starting_vertex(g), vertices[[1]], 1)\n",
    "for (i in 1:(VERTICES-1)) {\n",
    "    for (j in 1:VERTICES) {\n",
    "        if (i==j) {\n",
    "            next();\n",
    "        }\n",
    "        \n",
    "        weight <- runif(1)\n",
    "        add_edge(vertices[[i]],vertices[[j]], weight)\n",
    "        }\n",
    "    }\n",
    "\n",
    "# Matrix equations for 3rd moment\n",
    "GAM <- graph_as_matrix(g)\n",
    "U <- -solve(GAM$SIM)\n",
    "S <- GAM$SIM\n",
    "s <- -rowSums(S)\n",
    "alpha <- GAM$IPV\n",
    "e <- rep(1, length(GAM$IPV))\n",
    "\n",
    "df <- data.frame()\n",
    "MAT <- U\n",
    "for (k in 1:10) {\n",
    "    v <- factorial(k)*alpha %*% MAT %*% e \n",
    "    #integrating_under_curve <- sum(\n",
    "     #   dph(seq(0,100,by=0.01), g)*(seq(0,100,by=0.01)^k)\n",
    "     #   /10000)\n",
    "    df <- rbind(df, list(moment=k, matrix_based=round(v,10),\n",
    "                         ptdalgorithms_moment=round(moments(g, k)[k],10)\n",
    "                #ptdalgorithms_integrating_under_curve=integrating_under_curve\n",
    "               ))\n",
    "    MAT <- U %*% MAT\n",
    "}\n",
    "df"
   ]
  },
  {
   "cell_type": "code",
   "execution_count": 35,
   "metadata": {},
   "outputs": [
    {
     "name": "stderr",
     "output_type": "stream",
     "text": [
      "Installing package into ‘/home/tobias/R/x86_64-pc-linux-gnu-library/4.1’\n",
      "(as ‘lib’ is unspecified)\n",
      "\n",
      "Warning message in install.packages(\"expm\"):\n",
      "“installation of package ‘expm’ had non-zero exit status”\n"
     ]
    }
   ],
   "source": [
    "install.packages(\"expm\")\n",
    "library(expm)"
   ]
  },
  {
   "cell_type": "code",
   "execution_count": 47,
   "metadata": {},
   "outputs": [
    {
     "data": {
      "image/png": "[encoded data removed]",
      "text/plain": [
       "plot without title"
      ]
     },
     "metadata": {
      "image/png": {
       "height": 240,
       "width": 600
      }
     },
     "output_type": "display_data"
    },
    {
     "data": {
      "image/png": "[encoded data removed]",
      "text/plain": [
       "plot without title"
      ]
     },
     "metadata": {
      "image/png": {
       "height": 240,
       "width": 600
      }
     },
     "output_type": "display_data"
    }
   ],
   "source": [
    "t <- seq(0,1,by=0.01)\n",
    "y1 <- pph(t,g,granularity=10000)\n",
    "plot(t, y1)\n",
    "y2 <- sapply(t, function(t) {1-alpha%*%expm(S*t)%*%e})\n",
    "plot(t, y2)"
   ]
  },
  {
   "cell_type": "code",
   "execution_count": 58,
   "metadata": {},
   "outputs": [
    {
     "data": {
      "text/html": [
       "0.00274811498916354"
      ],
      "text/latex": [
       "0.00274811498916354"
      ],
      "text/markdown": [
       "0.00274811498916354"
      ],
      "text/plain": [
       "[1] 0.002748115"
      ]
     },
     "metadata": {},
     "output_type": "display_data"
    },
    {
     "data": {
      "text/html": [
       "0.0209295716027006"
      ],
      "text/latex": [
       "0.0209295716027006"
      ],
      "text/markdown": [
       "0.0209295716027006"
      ],
      "text/plain": [
       "[1] 0.02092957"
      ]
     },
     "metadata": {},
     "output_type": "display_data"
    },
    {
     "data": {
      "text/html": [
       "0.5"
      ],
      "text/latex": [
       "0.5"
      ],
      "text/markdown": [
       "0.5"
      ],
      "text/plain": [
       "[1] 0.5"
      ]
     },
     "metadata": {},
     "output_type": "display_data"
    }
   ],
   "source": [
    "mean(abs((y2-y1)/y1)*100, na.rm=T)\n",
    "max(abs((y2-y1)/y1)*100, na.rm=T)"
   ]
  },
  {
   "cell_type": "code",
   "execution_count": 60,
   "metadata": {},
   "outputs": [],
   "source": [
    "stop1 <- alpha%*%expm(S)\n",
    "stop2 <- stop_probability(g, 1, 10000)"
   ]
  },
  {
   "cell_type": "code",
   "execution_count": 85,
   "metadata": {},
   "outputs": [
    {
     "data": {
      "text/html": [
       "0.00120642027320843"
      ],
      "text/latex": [
       "0.00120642027320843"
      ],
      "text/markdown": [
       "0.00120642027320843"
      ],
      "text/plain": [
       "[1] 0.00120642"
      ]
     },
     "metadata": {},
     "output_type": "display_data"
    },
    {
     "data": {
      "text/html": [
       "0.00120642027591513"
      ],
      "text/latex": [
       "0.00120642027591513"
      ],
      "text/markdown": [
       "0.00120642027591513"
      ],
      "text/plain": [
       "[1] 0.00120642"
      ]
     },
     "metadata": {},
     "output_type": "display_data"
    }
   ],
   "source": [
    "stop11 <- c(0, rev(stop1),0)\n",
    "mean(abs(stop11-stop2)/stop11*100, na.rm=T)\n",
    "max(abs(stop11-stop2)/stop11*100, na.rm=T)"
   ]
  }
 ],
 "metadata": {
  "kernelspec": {
   "display_name": "R",
   "language": "R",
   "name": "ir"
  },
  "language_info": {
   "codemirror_mode": "r",
   "file_extension": ".r",
   "mimetype": "text/x-r-source",
   "name": "R",
   "pygments_lexer": "r",
   "version": "4.1.2"
  }
 },
 "nbformat": 4,
 "nbformat_minor": 2
}
